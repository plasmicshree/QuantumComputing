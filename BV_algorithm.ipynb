{
 "cells": [
  {
   "cell_type": "markdown",
   "metadata": {},
   "source": [
    "# Bernstein-Vazirani Algorithm"
   ]
  },
  {
   "cell_type": "markdown",
   "metadata": {},
   "source": [
    "Let us assume a black box which has n bits. How many attempts does a classical computer vs QC takes to figure out those 'n' bits?"
   ]
  },
  {
   "cell_type": "markdown",
   "metadata": {},
   "source": [
    "## Bernstein-Vazirani Problem"
   ]
  },
  {
   "cell_type": "markdown",
   "metadata": {},
   "source": [
    "We are given a blackbox function f, which takes as input string of bits (x), and retruns either 0 or 1.\n",
    "\n",
    "$f(\\{x_0,x_1,x_2,...\\}) \\rightarrow 0 \\textrm{ or } 1 \\textrm{ where } x_n \\textrm{ is }0 \\textrm{ or } 1$"
   ]
  },
  {
   "cell_type": "markdown",
   "metadata": {},
   "source": [
    "Instead of the function being balanced or constant as in the Deutsch-Josza problem, now the function is guaranteed to return the bitwise product of the input with some string, s.\n",
    "In other words, given an input x:\n",
    "\n",
    "$  \n",
    "f\n",
    "(\n",
    "x\n",
    ")\n",
    "=\n",
    "s\n",
    "⋅\n",
    "x\n",
    "(mod 2)$\n",
    "\n",
    "We are expected to find  s.\n"
   ]
  },
  {
   "cell_type": "markdown",
   "metadata": {},
   "source": [
    "## The Classical Solution:"
   ]
  },
  {
   "cell_type": "markdown",
   "metadata": {},
   "source": [
    "Classically, the oracle returns:\n",
    "$f_s(x) = s \\cdot x \\mod 2 $\n",
    " \n",
    "given an input x. Thus, the hidden bit string  \n",
    "s can be revealed by querying the oracle with the sequence of inputs:\n",
    "\n",
    "Input(x)\n",
    "\n",
    "100...0\n",
    "\n",
    "010...0\n",
    "\n",
    "001...0\n",
    "\n",
    "000...1\n",
    "\n",
    "Where each query reveals a different bit of s. For example, with x = 1000...0 one can obtain the least significant bit of s, with x = 0100...0 we can find the next least significant, and so on. This means we would need to call the function $f_s(x) $, n times.\n",
    "\n",
    "For example, if s=101000, then you need to query this six times to find s using classical approach. \n",
    "\n"
   ]
  },
  {
   "cell_type": "code",
   "execution_count": null,
   "metadata": {},
   "outputs": [],
   "source": [
    "#101\n",
    "000 -put AND gate ->010\n",
    "--- 3 step "
   ]
  },
  {
   "cell_type": "markdown",
   "metadata": {},
   "source": [
    "## The Quantum Solution"
   ]
  },
  {
   "cell_type": "markdown",
   "metadata": {},
   "source": [
    "Using a quantum computer, we can solve this problem with 100% confidence after only one call to the function $f(x)$. The quantum Bernstein-Vazirani algorithm to find the hidden bit string is very simple:\n",
    "\n",
    "1) Initialise the inputs qubits to the  $|0\\rangle^{\\otimes n}$ state, and output qubit to $|−⟩$.\n",
    "\n",
    "2) Apply Hadamard gates to the input register\n",
    "\n",
    "3) Query the oracle\n",
    "\n",
    "4) Apply Hadamard gates to the input register\n",
    "\n",
    "5) Measure"
   ]
  },
  {
   "cell_type": "markdown",
   "metadata": {},
   "source": [
    "To explain the algorithm, let’s look more closely at what happens when we apply a H-gate to each qubit. If we have an n-qubit state, |a⟩, and apply the H-gates, we will see the transformation:\n",
    "        \n",
    "$|a\\rangle \\xrightarrow{H^{\\otimes n}} \\frac{1}{\\sqrt{2^n}} \\sum_{x\\in \\{0,1\\}^n} (-1)^{a\\cdot x}|x\\rangle.$\n",
    "\n",
    "Explanation:\n",
    "\n",
    "$H|0\\rangle = \\tfrac{1}{\\sqrt{2}}(|0\\rangle + |1\\rangle)$\n",
    "\n",
    "$H|1\\rangle = \\tfrac{1}{\\sqrt{2}}(|0\\rangle - |1\\rangle)$\n",
    "\n",
    "Using summation notation above equation can be written as:\n",
    "\n",
    "$H|a\\rangle = \\frac{1}{\\sqrt{2}}\\sum_{x\\in \\{0,1\\}} (-1)^{a\\cdot x}|x\\rangle.$\n"
   ]
  },
  {
   "cell_type": "markdown",
   "metadata": {},
   "source": [
    "In particular, when we start with a quantum register|00…0⟩ and apply  n Hadamard gates to it, we have the familiar quantum superposition:\n",
    "\n",
    "$|00\\dots 0\\rangle \\xrightarrow{H^{\\otimes n}} \\frac{1}{\\sqrt{2^n}} \\sum_{x\\in \\{0,1\\}^n} |x\\rangle $\n",
    "\n",
    "The algorithm to reveal the hidden bit string follows naturally by querying the quantum oracle  fs with the quantum superposition obtained from the Hadamard transformation of  |00…0⟩. Namely,\n",
    "\n",
    "$|00\\dots 0\\rangle \\xrightarrow{H^{\\otimes n}} \\frac{1}{\\sqrt{2^n}} \\sum_{x\\in \\{0,1\\}^n} |x\\rangle \\xrightarrow{f_a} \\frac{1}{\\sqrt{2^n}} \\sum_{x\\in \\{0,1\\}^n} (-1)^{a\\cdot x}|x\\rangle$\n",
    "\n",
    "Because the inverse of the n Hadamard gates is again the n Hadamard gates, we can obtain a by\n",
    "\n",
    "$\\frac{1}{\\sqrt{2^n}} \\sum_{x\\in \\{0,1\\}^n} (-1)^{a\\cdot x}|x\\rangle \\xrightarrow{H^{\\otimes n}} |a\\rangle$\n",
    "\n"
   ]
  },
  {
   "cell_type": "markdown",
   "metadata": {},
   "source": [
    "## Let's start with an example"
   ]
  },
  {
   "cell_type": "markdown",
   "metadata": {},
   "source": [
    "Here we are trying to find string hidden inside the oracle."
   ]
  },
  {
   "cell_type": "markdown",
   "metadata": {},
   "source": [
    "n=2\n",
    "\n",
    "s=11 # This is the secret number. "
   ]
  },
  {
   "cell_type": "markdown",
   "metadata": {},
   "source": [
    "1) The register of two qubits is initialized to zero:\n",
    "$|\n",
    "ψ\n",
    "0\n",
    "⟩\n",
    "=\n",
    "|\n",
    "0\n",
    "0\n",
    "⟩$"
   ]
  },
  {
   "cell_type": "markdown",
   "metadata": {},
   "source": [
    "2) Apply a Hadamard gate to both qubits:\n",
    "$\\lvert \\psi_1 \\rangle = \\frac{1}{2} \\left( \\lvert 0 0 \\rangle + \\lvert 0 1 \\rangle + \\lvert 1 0 \\rangle + \\lvert 1 1 \\rangle \\right)$"
   ]
  },
  {
   "cell_type": "markdown",
   "metadata": {},
   "source": [
    "3) For the string  \n",
    "s=11, the quantum oracle performs the operation:\n",
    "$|x \\rangle \\xrightarrow{f_s} (-1)^{x\\cdot 11} |x \\rangle.$\n",
    "\n",
    "$\\lvert \\psi_2 \\rangle = \\frac{1}{2} \\left( (-1)^{00\\cdot 11}|00\\rangle + (-1)^{01\\cdot 11}|01\\rangle + (-1)^{10\\cdot 11}|10\\rangle + (-1)^{11\\cdot 11}|11\\rangle \\right)$\n",
    " \n",
    "$\\lvert \\psi_2 \\rangle = \\frac{1}{2} \\left( \\lvert 0 0 \\rangle - \\lvert 0 1 \\rangle - \\lvert 1 0 \\rangle + \\lvert 1 1 \\rangle \\right)$\n",
    " \n"
   ]
  },
  {
   "cell_type": "markdown",
   "metadata": {},
   "source": [
    "4) Apply a hadamard gate to both qubits:\n",
    " \n",
    "$\\lvert \\psi_3 \\rangle = \\lvert 1 1 \\rangle$  \n",
    "\n",
    "5) Measure to find the secret string s=11."
   ]
  },
  {
   "cell_type": "markdown",
   "metadata": {},
   "source": [
    "## Qiskit Implementation"
   ]
  },
  {
   "cell_type": "code",
   "execution_count": 1,
   "metadata": {},
   "outputs": [],
   "source": [
    "# initialization\n",
    "import matplotlib.pyplot as plt\n",
    "import numpy as np\n",
    "\n",
    "# importing Qiskit\n",
    "from qiskit import IBMQ, BasicAer\n",
    "from qiskit.providers.ibmq import least_busy\n",
    "from qiskit import QuantumCircuit, ClassicalRegister, QuantumRegister, execute\n",
    "\n",
    "# import basic plot tools\n",
    "from qiskit.visualization import plot_histogram"
   ]
  },
  {
   "cell_type": "code",
   "execution_count": 8,
   "metadata": {},
   "outputs": [],
   "source": [
    "n = 5# number of qubits used to represent s\n",
    "s = '10011'   # the hidden binary string"
   ]
  },
  {
   "cell_type": "code",
   "execution_count": 9,
   "metadata": {},
   "outputs": [
    {
     "data": {
      "text/html": [
       "<pre style=\"word-wrap: normal;white-space: pre;background: #fff0;line-height: 1.1;font-family: &quot;Courier New&quot;,Courier,monospace\">     ┌───┐      ░                      ░ ┌───┐┌─┐            \n",
       "q_0: ┤ H ├──────░───■──────────────────░─┤ H ├┤M├────────────\n",
       "     ├───┤      ░   │                  ░ ├───┤└╥┘┌─┐         \n",
       "q_1: ┤ H ├──────░───┼─────────■────────░─┤ H ├─╫─┤M├─────────\n",
       "     ├───┤      ░   │  ┌───┐  │        ░ ├───┤ ║ └╥┘┌─┐      \n",
       "q_2: ┤ H ├──────░───┼──┤ I ├──┼────────░─┤ H ├─╫──╫─┤M├──────\n",
       "     ├───┤      ░   │  ├───┤  │        ░ ├───┤ ║  ║ └╥┘┌─┐   \n",
       "q_3: ┤ H ├──────░───┼──┤ I ├──┼────────░─┤ H ├─╫──╫──╫─┤M├───\n",
       "     ├───┤      ░   │  └───┘  │        ░ ├───┤ ║  ║  ║ └╥┘┌─┐\n",
       "q_4: ┤ H ├──────░───┼─────────┼────■───░─┤ H ├─╫──╫──╫──╫─┤M├\n",
       "     ├───┤┌───┐ ░ ┌─┴─┐     ┌─┴─┐┌─┴─┐ ░ └───┘ ║  ║  ║  ║ └╥┘\n",
       "q_5: ┤ H ├┤ Z ├─░─┤ X ├─────┤ X ├┤ X ├─░───────╫──╫──╫──╫──╫─\n",
       "     └───┘└───┘ ░ └───┘     └───┘└───┘ ░       ║  ║  ║  ║  ║ \n",
       "c_0: ══════════════════════════════════════════╩══╬══╬══╬══╬═\n",
       "                                                  ║  ║  ║  ║ \n",
       "c_1: ═════════════════════════════════════════════╩══╬══╬══╬═\n",
       "                                                     ║  ║  ║ \n",
       "c_2: ════════════════════════════════════════════════╩══╬══╬═\n",
       "                                                        ║  ║ \n",
       "c_3: ═══════════════════════════════════════════════════╩══╬═\n",
       "                                                           ║ \n",
       "c_4: ══════════════════════════════════════════════════════╩═\n",
       "                                                             </pre>"
      ],
      "text/plain": [
       "     ┌───┐      ░                      ░ ┌───┐┌─┐            \n",
       "q_0: ┤ H ├──────░───■──────────────────░─┤ H ├┤M├────────────\n",
       "     ├───┤      ░   │                  ░ ├───┤└╥┘┌─┐         \n",
       "q_1: ┤ H ├──────░───┼─────────■────────░─┤ H ├─╫─┤M├─────────\n",
       "     ├───┤      ░   │  ┌───┐  │        ░ ├───┤ ║ └╥┘┌─┐      \n",
       "q_2: ┤ H ├──────░───┼──┤ I ├──┼────────░─┤ H ├─╫──╫─┤M├──────\n",
       "     ├───┤      ░   │  ├───┤  │        ░ ├───┤ ║  ║ └╥┘┌─┐   \n",
       "q_3: ┤ H ├──────░───┼──┤ I ├──┼────────░─┤ H ├─╫──╫──╫─┤M├───\n",
       "     ├───┤      ░   │  └───┘  │        ░ ├───┤ ║  ║  ║ └╥┘┌─┐\n",
       "q_4: ┤ H ├──────░───┼─────────┼────■───░─┤ H ├─╫──╫──╫──╫─┤M├\n",
       "     ├───┤┌───┐ ░ ┌─┴─┐     ┌─┴─┐┌─┴─┐ ░ └───┘ ║  ║  ║  ║ └╥┘\n",
       "q_5: ┤ H ├┤ Z ├─░─┤ X ├─────┤ X ├┤ X ├─░───────╫──╫──╫──╫──╫─\n",
       "     └───┘└───┘ ░ └───┘     └───┘└───┘ ░       ║  ║  ║  ║  ║ \n",
       "c_0: ══════════════════════════════════════════╩══╬══╬══╬══╬═\n",
       "                                                  ║  ║  ║  ║ \n",
       "c_1: ═════════════════════════════════════════════╩══╬══╬══╬═\n",
       "                                                     ║  ║  ║ \n",
       "c_2: ════════════════════════════════════════════════╩══╬══╬═\n",
       "                                                        ║  ║ \n",
       "c_3: ═══════════════════════════════════════════════════╩══╬═\n",
       "                                                           ║ \n",
       "c_4: ══════════════════════════════════════════════════════╩═\n",
       "                                                             "
      ]
     },
     "execution_count": 9,
     "metadata": {},
     "output_type": "execute_result"
    }
   ],
   "source": [
    "# We need a circuit with n qubits, plus one ancilla qubit\n",
    "# Also need n classical bits to write the output to\n",
    "bv_circuit = QuantumCircuit(n+1, n)\n",
    "# put ancilla in state |->\n",
    "bv_circuit.h(n)\n",
    "bv_circuit.z(n)\n",
    "# Apply Hadamard gates before querying the oracle\n",
    "for i in range(n):\n",
    "    bv_circuit.h(i)\n",
    " \n",
    "# Apply barrier \n",
    "bv_circuit.barrier()\n",
    "\n",
    "# Apply the inner-product oracle\n",
    "s = s[::-1] # reverse s to fit qiskit's qubit ordering\n",
    "for q in range(n):\n",
    "    if s[q] == '0':\n",
    "        bv_circuit.i(q)\n",
    "    else:\n",
    "        bv_circuit.cx(q, n)\n",
    "        \n",
    "# Apply barrier \n",
    "bv_circuit.barrier()\n",
    "\n",
    "#Apply Hadamard gates after querying the oracle\n",
    "for i in range(n):\n",
    "    bv_circuit.h(i)\n",
    "\n",
    "# Measurement\n",
    "for i in range(n):\n",
    "    bv_circuit.measure(i, i)\n",
    "\n",
    "bv_circuit.draw()"
   ]
  },
  {
   "cell_type": "code",
   "execution_count": 10,
   "metadata": {},
   "outputs": [
    {
     "data": {
      "image/png": "[encoded data removed]",
      "text/plain": [
       "<Figure size 504x360 with 1 Axes>"
      ]
     },
     "execution_count": 10,
     "metadata": {},
     "output_type": "execute_result"
    }
   ],
   "source": [
    "# use local simulator\n",
    "backend = BasicAer.get_backend('qasm_simulator')\n",
    "shots = 1024\n",
    "results = execute(bv_circuit, backend=backend, shots=shots).result()\n",
    "answer = results.get_counts()\n",
    "\n",
    "plot_histogram(answer)"
   ]
  },
  {
   "cell_type": "code",
   "execution_count": null,
   "metadata": {},
   "outputs": [],
   "source": []
  }
 ],
 "metadata": {
  "kernelspec": {
   "display_name": "Python 3",
   "language": "python",
   "name": "python3"
  },
  "language_info": {
   "codemirror_mode": {
    "name": "ipython",
    "version": 3
   },
   "file_extension": ".py",
   "mimetype": "text/x-python",
   "name": "python",
   "nbconvert_exporter": "python",
   "pygments_lexer": "ipython3",
   "version": "3.7.6"
  }
 },
 "nbformat": 4,
 "nbformat_minor": 4
}
