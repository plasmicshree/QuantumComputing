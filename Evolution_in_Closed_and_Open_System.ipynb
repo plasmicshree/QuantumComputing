{
 "cells": [
  {
   "cell_type": "markdown",
   "metadata": {
    "slideshow": {
     "slide_type": "slide"
    }
   },
   "source": [
    "## Evolution of a state $\\psi$"
   ]
  },
  {
   "cell_type": "markdown",
   "metadata": {
    "slideshow": {
     "slide_type": "slide"
    }
   },
   "source": [
    "Quantum states evolve and their evolution can be described by Unitary Matries. \n",
    "\n",
    "A unitary matrix has the property that its conjugate transpose is its inverse. Formally, it means that a matrix $U$ is unitary if \n",
    "\n",
    "$UU^\\dagger=U^\\dagger U=\\mathbb{1}$\n",
    "\n",
    "Pauli Spin Matrices are Unitary matrices. \n",
    "\n",
    "$X = \\begin{bmatrix} 0 & 1 \\\\ 1 & 0 \\end{bmatrix} = |0\\rangle\\langle1| + |1\\rangle\\langle0|$\n",
    "\n",
    "$Y = \\begin{bmatrix} 0 & -i \\\\ i & 0 \\end{bmatrix} \\quad\\quad\\quad\\quad Z = \\begin{bmatrix} 1 & 0 \\\\ 0 & -1 \\end{bmatrix}$\n",
    "\n",
    "$Y = -i|0\\rangle\\langle1| + i|1\\rangle\\langle0| \\quad\\quad Z = |0\\rangle\\langle0| - |1\\rangle\\langle1|$\n",
    "\n",
    "We will now call them as X, Y and Z gates. \n",
    "\n",
    "Let's check if they are indeed Unitary."
   ]
  },
  {
   "cell_type": "code",
   "execution_count": 1,
   "metadata": {
    "slideshow": {
     "slide_type": "skip"
    }
   },
   "outputs": [],
   "source": [
    "#!pip install git+https://github.com/qiskit-community/qiskit-textbook.git#subdirectory=qiskit-textbook-src"
   ]
  },
  {
   "cell_type": "code",
   "execution_count": 2,
   "metadata": {
    "slideshow": {
     "slide_type": "slide"
    }
   },
   "outputs": [
    {
     "data": {
      "text/latex": [
       "$\\displaystyle \n",
       "\\text{Y = } \\begin{bmatrix}\n",
       "0 & -i  \\\\\n",
       "i & 0  \\\\\n",
       "\\end{bmatrix}\n",
       "$$\n",
       "$"
      ],
      "text/plain": [
       "<IPython.core.display.Math object>"
      ]
     },
     "metadata": {},
     "output_type": "display_data"
    },
    {
     "name": "stdout",
     "output_type": "stream",
     "text": [
      "None\n"
     ]
    },
    {
     "data": {
      "text/latex": [
       "$\\displaystyle \n",
       "\\text{Y_dag = } \\begin{bmatrix}\n",
       "0 & -i  \\\\\n",
       "i & 0  \\\\\n",
       "\\end{bmatrix}\n",
       "$$\n",
       "$"
      ],
      "text/plain": [
       "<IPython.core.display.Math object>"
      ]
     },
     "metadata": {},
     "output_type": "display_data"
    },
    {
     "name": "stdout",
     "output_type": "stream",
     "text": [
      "None\n"
     ]
    },
    {
     "data": {
      "text/latex": [
       "$\\displaystyle \n",
       "\\text{A = } \\begin{bmatrix}\n",
       "1 & 0  \\\\\n",
       "0 & 1  \\\\\n",
       "\\end{bmatrix}\n",
       "$$\n",
       "$"
      ],
      "text/plain": [
       "<IPython.core.display.Math object>"
      ]
     },
     "metadata": {},
     "output_type": "display_data"
    },
    {
     "name": "stdout",
     "output_type": "stream",
     "text": [
      "None\n"
     ]
    }
   ],
   "source": [
    "import numpy as np\n",
    "from qiskit_textbook.tools import array_to_latex\n",
    "Y=np.array([[0,complex(0,-1)],[complex(0,1),0]])\n",
    "#print ('Y:',Y)\n",
    "print (array_to_latex(Y,pretext=\"\\\\text{Y = } \"))\n",
    "Y_dag= Y.conj().transpose()\n",
    "print (array_to_latex(Y_dag, pretext=\"\\\\text{Y_dag = } \"))\n",
    "A=np.dot(Y,Y_dag)\n",
    "#print ('A:',A)\n",
    "print (array_to_latex(A,pretext=\"\\\\text{A = } \"))"
   ]
  },
  {
   "cell_type": "markdown",
   "metadata": {
    "slideshow": {
     "slide_type": "slide"
    }
   },
   "source": [
    "Similary, you can show X and Z are unitary matrices too. \n",
    "The beauty of Unitary matrix is that the norm is reserved. That is a quantum state is mapped to another quantum state. "
   ]
  },
  {
   "cell_type": "markdown",
   "metadata": {
    "slideshow": {
     "slide_type": "slide"
    }
   },
   "source": [
    "The main beauty of unitary matrices or operation is reversibility. Quantum computing libraries often proved a function to reverse entire circuit. Reversing a gate is very simple: we just apply it again!\n",
    "\n",
    "Let's check if this is true!"
   ]
  },
  {
   "cell_type": "code",
   "execution_count": 3,
   "metadata": {
    "slideshow": {
     "slide_type": "slide"
    }
   },
   "outputs": [],
   "source": [
    "from qiskit import QuantumCircuit, ClassicalRegister, QuantumRegister\n",
    "from qiskit import execute\n",
    "from qiskit import Aer\n",
    "from qiskit.tools.visualization import circuit_drawer"
   ]
  },
  {
   "cell_type": "code",
   "execution_count": 4,
   "metadata": {
    "slideshow": {
     "slide_type": "slide"
    }
   },
   "outputs": [
    {
     "data": {
      "text/latex": [
       "$\\displaystyle \n",
       "\\text{Psi after X-gate is applied = } \\begin{bmatrix}\n",
       "0 \\\\\n",
       "1\n",
       "\\end{bmatrix}\n",
       "$"
      ],
      "text/plain": [
       "<IPython.core.display.Math object>"
      ]
     },
     "metadata": {},
     "output_type": "display_data"
    },
    {
     "name": "stdout",
     "output_type": "stream",
     "text": [
      "None\n",
      "      ┌───┐┌───┐\n",
      "q0_0: ┤ X ├┤ X ├\n",
      "      └───┘└───┘\n",
      "c0_0: ══════════\n",
      "                \n"
     ]
    },
    {
     "data": {
      "text/latex": [
       "$\\displaystyle \n",
       "\\text{Psi after X-gate is applied again = } \\begin{bmatrix}\n",
       "1 \\\\\n",
       "0\n",
       "\\end{bmatrix}\n",
       "$"
      ],
      "text/plain": [
       "<IPython.core.display.Math object>"
      ]
     },
     "metadata": {},
     "output_type": "display_data"
    },
    {
     "name": "stdout",
     "output_type": "stream",
     "text": [
      "None\n"
     ]
    }
   ],
   "source": [
    "# Calling a simulator to see what happened after applying the gate\n",
    "backend_statevector = Aer.get_backend('statevector_simulator')\n",
    "# create a quantum register and a classical register\n",
    "q = QuantumRegister(1)\n",
    "c = ClassicalRegister(1) #used to measure the result\n",
    "circuit = QuantumCircuit(q, c) # Now we created a circuit\n",
    "circuit.x(q[0]) # Applied a Pauli X-gate to q0\n",
    "job = execute(circuit, backend_statevector)\n",
    "print(array_to_latex(job.result().get_statevector(circuit),pretext=\"\\\\text{Psi after X-gate is applied = } \"))\n",
    "circuit.x(q[0]) # Apllied another Pauli X-gate to q\n",
    "print(circuit.draw(style='mpl'))\n",
    "job1 = execute(circuit, backend_statevector) # ran the job\n",
    "#print(\"Psi after X-gate applied again:\",job1.result().get_statevector(circuit))\n",
    "print(array_to_latex(job1.result().get_statevector(circuit),pretext=\"\\\\text{Psi after X-gate is applied again = } \"))"
   ]
  },
  {
   "cell_type": "markdown",
   "metadata": {
    "slideshow": {
     "slide_type": "slide"
    }
   },
   "source": [
    "Let's see this mathematically:\n",
    "\n",
    "$X|0\\rangle = \\begin{bmatrix} 0 & 1 \\\\ 1 & 0 \\end{bmatrix}\\begin{bmatrix} 1 \\\\ 0 \\end{bmatrix} = \\begin{bmatrix} 0 \\\\ 1 \\end{bmatrix} = |1\\rangle$\n",
    "\n",
    "$X|1\\rangle = \\begin{bmatrix} 0 & 1 \\\\ 1 & 0 \\end{bmatrix}\\begin{bmatrix} 0 \\\\ 1 \\end{bmatrix} = \\begin{bmatrix} 1 \\\\ 0 \\end{bmatrix} = |0\\rangle$"
   ]
  },
  {
   "cell_type": "raw",
   "metadata": {
    "slideshow": {
     "slide_type": "slide"
    }
   },
   "source": [
    "This Unitary evolution is true for Closed system, that is, a quantum system perfectly isolated from the environment.\n",
    "This is not the case in the quantum computers we have today: these are open quantum systems that evolve differently due to uncontrolled interactions with the environments.\n",
    "    Now let us look as Open systems in Quantum Computing."
   ]
  },
  {
   "cell_type": "raw",
   "metadata": {
    "slideshow": {
     "slide_type": "slide"
    }
   },
   "source": [
    "This also means that the actual time evolution of Psi is not described by a unitary matrix as we would want it, but some other operator (the technical name for it is a completely positive trace-preserving map)."
   ]
  },
  {
   "cell_type": "markdown",
   "metadata": {
    "slideshow": {
     "slide_type": "slide"
    }
   },
   "source": [
    "Quantum computing libraries often offer a variety of noise models that mimic different types of interaction, and increasing the strength of the interaction with the environment leads to faster decoherence. The timescale for decoherence is often called $T_2$ time. Among a couple of other parameters, $T_2$ time is critically important for the number of gates or the duration of the quantum computation we can perform.\n",
    "\n",
    "A very cheap way of studying the effects of decoherence is mixing a pure state with the maximally mixed state $\\mathbb{1}/2^d$, where $d$ is the number of qubits, with some visibility parameter in $[0,1]$. This way we do not have to specify noise models or any other map modelling decoherence. For instance, we can mix the $|\\phi^+\\rangle$ state with the maximally mixed state:"
   ]
  },
  {
   "cell_type": "code",
   "execution_count": 5,
   "metadata": {
    "slideshow": {
     "slide_type": "slide"
    }
   },
   "outputs": [
    {
     "data": {
      "text/plain": [
       "array([[1., 0., 0., 0.],\n",
       "       [0., 1., 0., 0.],\n",
       "       [0., 0., 1., 0.],\n",
       "       [0., 0., 0., 1.]])"
      ]
     },
     "execution_count": 5,
     "metadata": {},
     "output_type": "execute_result"
    }
   ],
   "source": [
    "np.eye(4) # Creates an identity matrix of 4 X 4 "
   ]
  },
  {
   "cell_type": "code",
   "execution_count": 6,
   "metadata": {
    "slideshow": {
     "slide_type": "slide"
    }
   },
   "outputs": [
    {
     "data": {
      "text/latex": [
       "$\\displaystyle \n",
       "\\text{ϕ = } \\begin{bmatrix}\n",
       "\\tfrac{1}{\\sqrt{2}}  \\\\\n",
       "0  \\\\\n",
       "0  \\\\\n",
       "\\tfrac{1}{\\sqrt{2}}  \\\\\n",
       "\\end{bmatrix}\n",
       "$$\n",
       "$"
      ],
      "text/plain": [
       "<IPython.core.display.Math object>"
      ]
     },
     "metadata": {},
     "output_type": "display_data"
    },
    {
     "name": "stdout",
     "output_type": "stream",
     "text": [
      "None\n",
      "Density_matrix\n",
      "[[0.5 0.  0.  0.5]\n",
      " [0.  0.  0.  0. ]\n",
      " [0.  0.  0.  0. ]\n",
      " [0.5 0.  0.  0.5]]\n",
      "Maximum visibility is a pure state:\n",
      "[[0.5 0.  0.  0.5]\n",
      " [0.  0.  0.  0. ]\n",
      " [0.  0.  0.  0. ]\n",
      " [0.5 0.  0.  0.5]]\n",
      "The state is still entangled with visibility 0.8:\n",
      "[[0.45 0.   0.   0.4 ]\n",
      " [0.   0.05 0.   0.  ]\n",
      " [0.   0.   0.05 0.  ]\n",
      " [0.4  0.   0.   0.45]]\n",
      "Entanglement is lost by 0.6:\n",
      "[[0.4 0.  0.  0.3]\n",
      " [0.  0.1 0.  0. ]\n",
      " [0.  0.  0.1 0. ]\n",
      " [0.3 0.  0.  0.4]]\n",
      "Barely any coherence remains by 0.2:\n",
      "[[0.3 0.  0.  0.1]\n",
      " [0.  0.2 0.  0. ]\n",
      " [0.  0.  0.2 0. ]\n",
      " [0.1 0.  0.  0.3]]\n"
     ]
    }
   ],
   "source": [
    "def mixed_state(pure_state, visibility):\n",
    "    density_matrix = pure_state @ pure_state.T.conj()\n",
    "    maximally_mixed_state = np.eye(4)/2**2\n",
    "    return visibility*density_matrix + (1-visibility)*maximally_mixed_state\n",
    "\n",
    "ϕ = np.array([[1],[0],[0],[1]])/np.sqrt(2)\n",
    "#####################\n",
    "print(array_to_latex(ϕ,pretext=\"\\\\text{ϕ = } \"))\n",
    "d_m= ϕ @ ϕ.T.conj()\n",
    "print ('Density_matrix')\n",
    "print (d_m)\n",
    "###############################\n",
    "print(\"Maximum visibility is a pure state:\")\n",
    "print(mixed_state(ϕ, 1.0))\n",
    "#############################\n",
    "print(\"The state is still entangled with visibility 0.8:\")\n",
    "print(mixed_state(ϕ, 0.8))\n",
    "################################\n",
    "print(\"Entanglement is lost by 0.6:\")\n",
    "print(mixed_state(ϕ, 0.6))\n",
    "############################\n",
    "print(\"Barely any coherence remains by 0.2:\")\n",
    "print(mixed_state(ϕ, 0.2))"
   ]
  },
  {
   "cell_type": "markdown",
   "metadata": {
    "slideshow": {
     "slide_type": "slide"
    }
   },
   "source": [
    "Another way to look at what happens to a quantum state in an open system is through equilibrium processes. Think of a cup of coffee: left alone, it will equilibrate with the environment, eventually reaching the temperature of the environment. This includes energy exchange. A quantum state does the same thing and the environment has a defined temperature, just like the environment of a cup of coffee.\n",
    "\n",
    "The equilibrium state is called the thermal state. The samples pulled out of a thermal state follows a Boltzmann distribution. The Boltzmann -- also called Gibbs -- distribution is described as \n",
    "\n",
    "$P(E_i) =  \\frac {e^{-E_{i}/T}}{\\sum _{j=1}^{M}{e^{-E_{j}/T}}}$,\n",
    "\n",
    "where $E_i$ is an energy, and $M$ is the total number of possible energy levels. Temperature enters the definition: the higher the temperature, the closer we are to the uniform distribution. In the infinite temperature limit, it recovers the uniform distribution. At high temperatures, all energy levels have an equal probability. In contrast, at zero temperature, the entire probability mass is concentrated on the lowest energy level, the ground state energy. To get a sense of this, let's plot the Boltzmann distribution with vastly different temperatures:"
   ]
  },
  {
   "cell_type": "code",
   "execution_count": 7,
   "metadata": {
    "slideshow": {
     "slide_type": "slide"
    }
   },
   "outputs": [
    {
     "data": {
      "text/plain": [
       "<matplotlib.legend.Legend at 0x212205c56c8>"
      ]
     },
     "execution_count": 7,
     "metadata": {},
     "output_type": "execute_result"
    },
    {
     "data": {
      "image/png": "[encoded data removed]",
      "text/plain": [
       "<Figure size 432x288 with 1 Axes>"
      ]
     },
     "metadata": {
      "needs_background": "light"
     },
     "output_type": "display_data"
    }
   ],
   "source": [
    "import matplotlib.pyplot as plt\n",
    "\n",
    "temperatures = [.5, 5, 200]\n",
    "energies = np.linspace(0, 20, 100) # Creating uniform energy levels\n",
    "fig, ax = plt.subplots()\n",
    "for i, T in enumerate(temperatures):\n",
    "    probabilities = np.exp(-energies/T)\n",
    "    Z = probabilities.sum()\n",
    "    probabilities /= Z\n",
    "    ax.plot(energies, probabilities, linewidth=3, label = \"$T_\" + str(i+1)+\"$=\"+str(T))\n",
    "ax.set_xlim(0, 20)\n",
    "ax.set_ylim(0, 1.2*probabilities.max())\n",
    "#ax.set_xticks([])\n",
    "#ax.set_yticks([])\n",
    "ax.set_xlabel('Energy')\n",
    "ax.set_ylabel('Probability')\n",
    "ax.legend()"
   ]
  },
  {
   "cell_type": "markdown",
   "metadata": {},
   "source": [
    "Here $T_1 < T_2 < T_3$. Notice that $T_1$ is a low temperature, and therefore it is highly peaked at low energy levels. In contrast, $T_3$ is a very high temperature and the probability distribution is almost completely flat."
   ]
  },
  {
   "cell_type": "markdown",
   "metadata": {},
   "source": [
    "This is why Quantum Qubits needs to be cooled at extremely low temperatures. \n",
    "https://www.newscientist.com/article/2240539-quantum-computer-chips-demonstrated-at-the-highest-temperatures-ever/#:~:text=For%20the%20first%20time%2C%20quantum,made%20in%20several%20different%20ways."
   ]
  },
  {
   "cell_type": "markdown",
   "metadata": {},
   "source": [
    "## Quantum Error Correction using Repetition Codes"
   ]
  },
  {
   "cell_type": "markdown",
   "metadata": {},
   "source": [
    "Logical Qubit: No errors\n",
    "\n",
    "Physical Qubits: Will always have errors\n",
    "\n",
    "In the current era of quantum computing, we seek to use physical qubits despite their imperfections, by designing custom algorithms and using error mitigation effects. For the future era of fault-tolerance, however, we must find ways to build logical qubits from physical qubits. This will be done through the process of quantum error correction, in which logical qubits are encoded in a large number of physical qubits. The encoding is maintained by constantly putting the physical qubits through a highly entangling circuit.\n",
    "\n",
    "we will look at a particular example of error correction: the repetition code. Though not a true example of quantum error correction - it uses physical qubits to encode a logical bit, rather than a qubit - it serves as a simple guide to all the basic concepts in any quantum error correcting code.\n",
    "\n"
   ]
  },
  {
   "cell_type": "markdown",
   "metadata": {},
   "source": [
    "The basic ideas behind error correction are the same for quantum information as for classical information. This allows us to begin by considering a very straightforward example: speaking on the phone. If someone asks you a question to which the answer is 'yes' or 'no', the way you give your response will depend on two factors:\n",
    "\n",
    "How important is it that you are understood correctly?\n",
    "How good is your connection?\n",
    "\n",
    "Both of these can be paramaterized with probabilities. For the first, we can use  Pa , the maximum acceptable probability of being misunderstood. If you are being asked to confirm a preference for ice cream flavours, and don't mind too much if you get vanilla rather than chocolate,  Pa  might be quite high.\n",
    "\n",
    "For the second we can use  p , the probability that your answer is garbled by a bad connection. For simplicity, let's imagine a case where a garbled 'yes' doesn't simply sound like nonsense, but sounds like a 'no'. And similarly a 'no' is transformed into 'yes'. Then  p  is the probability that you are completely misunderstood.\n",
    "\n",
    "A good connection or a relatively unimportant question will result in  p<Pa . In this case it is fine to simply answer in the most direct way possible: you just say 'yes' or 'no'.\n",
    "\n",
    "f, however, your connection is poor and your answer is important, we will have  p>Pa . A single 'yes' or 'no' is not enough in this case.The probability of being misunderstood would be too high. Instead we must encode our answer in a more complex structure, allowing the receiver to decode our meaning despite the possibility of the message being disrupted. The simplest method is the one that many would do without thinking: simply repeat the answer many times. For example say 'yes, yes, yes' instead of 'yes' or 'no, no no' instead of 'no'.\n",
    "\n",
    "\n"
   ]
  },
  {
   "cell_type": "markdown",
   "metadata": {},
   "source": [
    "Summary:\n",
    "\n",
    "There is some information to be sent or stored: In this case, a 'yes' or 'no.\n",
    "The information is encoded in a larger system to protect it against noise: In this case, by repeating the message.\n",
    "The information is finally decoded, mitigating for the effects of noise: In this case, by trusting the majority of the transmitted messages."
   ]
  },
  {
   "cell_type": "markdown",
   "metadata": {},
   "source": [
    "Implementing in Qiskit:\n",
    "\n",
    "We consider two forms of error that can occur. One is a gate error: an imperfection in any operation we perform. We model this here in a simple way, using so-called depolarizing noise. The effect of this will be, with probability  p_gate  ,to replace the state of any qubit with a completely random state. For two qubit gates, it is applied independently to each qubit. The other form of noise is that for measurement. This simply flips between a 0 to a 1 and vice-versa immediately before measurement with probability  p_meas .\n",
    "    "
   ]
  },
  {
   "cell_type": "code",
   "execution_count": 8,
   "metadata": {},
   "outputs": [],
   "source": [
    "from qiskit.providers.aer.noise import NoiseModel\n",
    "from qiskit.providers.aer.noise.errors import pauli_error, depolarizing_error\n",
    "\n",
    "def get_noise(p_meas,p_gate):\n",
    "\n",
    "    error_meas = pauli_error([('X',p_meas), ('I', 1 - p_meas)])\n",
    "    error_gate1 = depolarizing_error(p_gate, 1)\n",
    "    error_gate2 = error_gate1.tensor(error_gate1)\n",
    "\n",
    "    noise_model = NoiseModel()\n",
    "    # measurement error is applied to measurements\n",
    "    noise_model.add_all_qubit_quantum_error(error_meas, \"measure\") \n",
    "    # single qubit gate error is applied to x gates\n",
    "    noise_model.add_all_qubit_quantum_error(error_gate1, [\"x\"]) \n",
    "     # two qubit gate error is applied to cx gates\n",
    "    noise_model.add_all_qubit_quantum_error(error_gate2, [\"cx\"])\n",
    "        \n",
    "    return noise_model"
   ]
  },
  {
   "cell_type": "code",
   "execution_count": 16,
   "metadata": {},
   "outputs": [],
   "source": [
    "#Create noise_model with a probability of 1% for each type of error\n",
    "noise_model=get_noise(0.01,0.01)"
   ]
  },
  {
   "cell_type": "code",
   "execution_count": 17,
   "metadata": {},
   "outputs": [
    {
     "name": "stdout",
     "output_type": "stream",
     "text": [
      "     ┌─┐      \n",
      "q_0: ┤M├──────\n",
      "     └╥┘┌─┐   \n",
      "q_1: ─╫─┤M├───\n",
      "      ║ └╥┘┌─┐\n",
      "q_2: ─╫──╫─┤M├\n",
      "      ║  ║ └╥┘\n",
      "c_0: ═╩══╬══╬═\n",
      "         ║  ║ \n",
      "c_1: ════╩══╬═\n",
      "            ║ \n",
      "c_2: ═══════╩═\n",
      "              \n",
      " No noise: {'000': 1024} \n",
      " Noise: {'100': 11, '000': 993, '001': 12, '010': 8}\n"
     ]
    }
   ],
   "source": [
    "# initialize circuit with three qubits in the 0 state\n",
    "qc0 = QuantumCircuit(3,3,name='0') \n",
    " # measure the qubits\n",
    "qc0.measure(qc0.qregs[0],qc0.cregs[0])\n",
    "print(qc0.draw(style='mpl'))\n",
    "# run the circuit with th noise model and extract the counts\n",
    "counts_noise = execute( qc0, Aer.get_backend('qasm_simulator'),noise_model=noise_model).result().get_counts()\n",
    "counts = execute( qc0, Aer.get_backend('qasm_simulator')).result().get_counts()\n",
    "\n",
    "print(' No noise:',counts,'\\n','Noise:',counts_noise)"
   ]
  },
  {
   "cell_type": "code",
   "execution_count": 18,
   "metadata": {},
   "outputs": [
    {
     "name": "stdout",
     "output_type": "stream",
     "text": [
      "     ┌───┐┌─┐      \n",
      "q_0: ┤ X ├┤M├──────\n",
      "     ├───┤└╥┘┌─┐   \n",
      "q_1: ┤ X ├─╫─┤M├───\n",
      "     ├───┤ ║ └╥┘┌─┐\n",
      "q_2: ┤ X ├─╫──╫─┤M├\n",
      "     └───┘ ║  ║ └╥┘\n",
      "c_0: ══════╩══╬══╬═\n",
      "              ║  ║ \n",
      "c_1: ═════════╩══╬═\n",
      "                 ║ \n",
      "c_2: ════════════╩═\n",
      "                   \n",
      " No noise: {'111': 1024} \n",
      " Noise: {'100': 1, '101': 9, '110': 18, '011': 13, '111': 983}\n"
     ]
    }
   ],
   "source": [
    "n =1024 # number of shots\n",
    "#Running same with '111' this time!\n",
    "qc1 = QuantumCircuit(3, 3, name='0') \n",
    "qc1.x(qc1.qregs[0]) # flip each 0 to 1\n",
    "\n",
    "qc1.measure(qc1.qregs[0],qc1.cregs[0]) # measure the qubits\n",
    "print(qc1.draw(style='mpl'))\n",
    "# run the circuit with th noise model and extract the counts\n",
    "counts_noise = execute( qc1, Aer.get_backend('qasm_simulator'),noise_model=noise_model,shots=n).result().get_counts()\n",
    "counts = execute( qc1, Aer.get_backend('qasm_simulator'),shots=n).result().get_counts()\n",
    "\n",
    "print(' No noise:',counts,'\\n','Noise:',counts_noise)"
   ]
  },
  {
   "cell_type": "code",
   "execution_count": 19,
   "metadata": {},
   "outputs": [
    {
     "name": "stdout",
     "output_type": "stream",
     "text": [
      "{'100': 122, '000': 126, '110': 130, '101': 146, '010': 145, '011': 122, '001': 129, '111': 104}\n"
     ]
    }
   ],
   "source": [
    "#Increase measurement_noise probability\n",
    "noise_model = get_noise(0.5,0.0)\n",
    "counts = execute(qc1, Aer.get_backend('qasm_simulator'),noise_model=noise_model).result().get_counts()\n",
    "print(counts)"
   ]
  },
  {
   "cell_type": "markdown",
   "metadata": {},
   "source": [
    "To have complete idea about Repetition code, check this link:\n",
    "#https://qiskit.org/textbook/ch-quantum-hardware/error-correction-repetition-code.html"
   ]
  },
  {
   "cell_type": "code",
   "execution_count": null,
   "metadata": {},
   "outputs": [],
   "source": []
  }
 ],
 "metadata": {
  "celltoolbar": "Slideshow",
  "kernelspec": {
   "display_name": "Python 3",
   "language": "python",
   "name": "python3"
  },
  "language_info": {
   "codemirror_mode": {
    "name": "ipython",
    "version": 3
   },
   "file_extension": ".py",
   "mimetype": "text/x-python",
   "name": "python",
   "nbconvert_exporter": "python",
   "pygments_lexer": "ipython3",
   "version": "3.7.6"
  }
 },
 "nbformat": 4,
 "nbformat_minor": 4
}
