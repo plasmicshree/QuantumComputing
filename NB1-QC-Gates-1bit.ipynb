{
 "cells": [
  {
   "cell_type": "markdown",
   "metadata": {},
   "source": [
    "# Applying Hadamard to Single Qubit"
   ]
  },
  {
   "cell_type": "code",
   "execution_count": 1,
   "metadata": {},
   "outputs": [],
   "source": [
    "%matplotlib inline\n",
    "# Importing standard Qiskit libraries and configuring account\n",
    "from qiskit import QuantumCircuit, QuantumRegister,ClassicalRegister\n",
    "from qiskit import  execute, Aer, IBMQ\n",
    "from qiskit.compiler import transpile, assemble\n",
    "from qiskit.tools.jupyter import *\n",
    "from qiskit.visualization import *\n",
    "from qiskit.providers.aer import UnitarySimulator"
   ]
  },
  {
   "cell_type": "markdown",
   "metadata": {},
   "source": [
    "## Hadamard Gate"
   ]
  },
  {
   "cell_type": "markdown",
   "metadata": {},
   "source": [
    "Algebra:\n",
    "$H = \\tfrac{1}{\\sqrt{2}}\\begin{bmatrix} 1 & 1 \\\\ 1 & -1 \\end{bmatrix}$"
   ]
  },
  {
   "cell_type": "code",
   "execution_count": 2,
   "metadata": {},
   "outputs": [
    {
     "data": {
      "image/png": "[encoded data removed]",
      "text/plain": [
       "<Figure size 244.412x144.48 with 1 Axes>"
      ]
     },
     "execution_count": 2,
     "metadata": {},
     "output_type": "execute_result"
    }
   ],
   "source": [
    "n =1\n",
    "q = QuantumRegister(n)\n",
    "c = ClassicalRegister(n)\n",
    "circ = QuantumCircuit(q,c)\n",
    "circ.h(q[0])\n",
    "circ.measure(q,c)\n",
    "\n",
    "# Change the background color in mpl\n",
    "style = {'backgroundcolor': 'lightgreen'}\n",
    "circ.draw(output='mpl', style = style)"
   ]
  },
  {
   "cell_type": "markdown",
   "metadata": {},
   "source": [
    "Manual approach:\n",
    "Initial state: |0>; \n",
    "After Hadamard Gate: 1√2|0>+1√2|1>"
   ]
  },
  {
   "cell_type": "code",
   "execution_count": 3,
   "metadata": {},
   "outputs": [
    {
     "data": {
      "image/png": "[encoded data removed]",
      "text/plain": [
       "<Figure size 504x360 with 1 Axes>"
      ]
     },
     "execution_count": 3,
     "metadata": {},
     "output_type": "execute_result"
    }
   ],
   "source": [
    "#Simulation\n",
    "simulator = Aer.get_backend('qasm_simulator')\n",
    "result = execute(circ, simulator).result()\n",
    "counts = result.get_counts(circ)\n",
    "plot_histogram(counts, title='Bell-State counts')"
   ]
  },
  {
   "cell_type": "code",
   "execution_count": 5,
   "metadata": {
    "scrolled": true
   },
   "outputs": [
    {
     "name": "stdout",
     "output_type": "stream",
     "text": [
      "[[1.+0.j 0.+0.j]\n",
      " [0.+0.j 1.+0.j]]\n"
     ]
    }
   ],
   "source": [
    "#Unitary Matrix representation\n",
    "#Create a new simulator that will display unitary Matrix\n",
    "circ = QuantumCircuit(q,c)\n",
    "simulator1 = Aer.get_backend('unitary_simulator')\n",
    "# Execute and get counts\n",
    "result1 = execute(circ, simulator1).result()\n",
    "unitary = result1.get_unitary(circ)\n",
    "print( unitary)"
   ]
  },
  {
   "cell_type": "raw",
   "metadata": {},
   "source": [
    "Aer Simulators:\n",
    "QasmSimulator: Allows ideal and noisy multi-shot execution of qiskit\n",
    "circuits and returns counts or memory.\n",
    "\n",
    "UnitarySimulator: Allows ideal single-shot execution of qiskit\n",
    "circuits and returns the final unitary matrix of the circuit itself.\n",
    "\n",
    "StatevectorSimulator: Allows ideal single-shot execution of qiskit\n",
    "circuits and returns the final statevector of the simulator after \n",
    "application."
   ]
  },
  {
   "cell_type": "code",
   "execution_count": null,
   "metadata": {},
   "outputs": [],
   "source": []
  },
  {
   "cell_type": "code",
   "execution_count": null,
   "metadata": {},
   "outputs": [],
   "source": []
  },
  {
   "cell_type": "code",
   "execution_count": null,
   "metadata": {},
   "outputs": [],
   "source": []
  }
 ],
 "metadata": {
  "kernelspec": {
   "display_name": "Python 3",
   "language": "python",
   "name": "python3"
  },
  "language_info": {
   "codemirror_mode": {
    "name": "ipython",
    "version": 3
   },
   "file_extension": ".py",
   "mimetype": "text/x-python",
   "name": "python",
   "nbconvert_exporter": "python",
   "pygments_lexer": "ipython3",
   "version": "3.7.6"
  }
 },
 "nbformat": 4,
 "nbformat_minor": 4
}
