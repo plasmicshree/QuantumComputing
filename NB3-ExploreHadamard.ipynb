{
 "cells": [
  {
   "cell_type": "markdown",
   "metadata": {},
   "source": [
    "# Single Qbit H-gate"
   ]
  },
  {
   "cell_type": "code",
   "execution_count": 1,
   "metadata": {},
   "outputs": [],
   "source": [
    "import numpy as np\n",
    "from qiskit import(\n",
    "  QuantumCircuit,\n",
    "  execute,\n",
    "  Aer)\n",
    "from qiskit.visualization import plot_histogram\n",
    "from qiskit.visualization import plot_bloch_multivector"
   ]
  },
  {
   "cell_type": "code",
   "execution_count": 2,
   "metadata": {},
   "outputs": [],
   "source": [
    "simulator_q = Aer.get_backend('qasm_simulator')\n",
    "simulator_s= Aer.get_backend('statevector_simulator')\n",
    "simulator_u = Aer.get_backend('unitary_simulator')"
   ]
  },
  {
   "cell_type": "code",
   "execution_count": 3,
   "metadata": {},
   "outputs": [
    {
     "data": {
      "text/plain": [
       "'\\nThe StatevectorSimulator executes a single shot of a Qiskit QuantumCircuit\\nand returns the final quantum statevector of the simulation.\\nNote that if a circuit contains measure or reset the final statevector\\nwill be a conditional statevector after simulating wave-function collapse\\nto the outcome of a measure or reset.\\nFor the Bell-state circuit this means the final statevector will be either |0> or |1>.   .\\n\\n'"
      ]
     },
     "execution_count": 3,
     "metadata": {},
     "output_type": "execute_result"
    }
   ],
   "source": [
    "\"\"\"\n",
    "The StatevectorSimulator executes a single shot of a Qiskit QuantumCircuit\n",
    "and returns the final quantum statevector of the simulation.\n",
    "Note that if a circuit contains measure or reset the final statevector\n",
    "will be a conditional statevector after simulating wave-function collapse\n",
    "to the outcome of a measure or reset.\n",
    "For the Bell-state circuit this means the final statevector will be either |0> or |1>.   .\n",
    "\n",
    "\"\"\""
   ]
  },
  {
   "cell_type": "code",
   "execution_count": 4,
   "metadata": {},
   "outputs": [],
   "source": [
    "circuit = QuantumCircuit(1, 1)"
   ]
  },
  {
   "cell_type": "code",
   "execution_count": 5,
   "metadata": {},
   "outputs": [
    {
     "data": {
      "text/plain": [
       "<qiskit.circuit.instructionset.InstructionSet at 0x169658d2748>"
      ]
     },
     "execution_count": 5,
     "metadata": {},
     "output_type": "execute_result"
    }
   ],
   "source": [
    "circuit.h(0)"
   ]
  },
  {
   "cell_type": "code",
   "execution_count": 6,
   "metadata": {},
   "outputs": [
    {
     "name": "stdout",
     "output_type": "stream",
     "text": [
      "[[ 0.70710678+0.j  0.70710678+0.j]\n",
      " [ 0.70710678+0.j -0.70710678+0.j]]\n"
     ]
    }
   ],
   "source": [
    "result=execute(circuit,simulator_u).result()\n",
    "unitary=result.get_unitary(circuit)\n",
    "print (unitary)"
   ]
  },
  {
   "cell_type": "code",
   "execution_count": 7,
   "metadata": {},
   "outputs": [
    {
     "name": "stdout",
     "output_type": "stream",
     "text": [
      "counts: {'1': 526, '0': 498}\n",
      "outputstate: [0.+0.j 1.+0.j]\n"
     ]
    },
    {
     "data": {
      "image/png": "[encoded data removed]",
      "text/plain": [
       "<Figure size 233.576x144.48 with 1 Axes>"
      ]
     },
     "execution_count": 7,
     "metadata": {},
     "output_type": "execute_result"
    }
   ],
   "source": [
    "circuit = QuantumCircuit(1, 1)\n",
    "circuit.h(0)\n",
    "circuit.measure(0,0)\n",
    "result2=execute(circuit,simulator_q).result()\n",
    "result3=execute(circuit,simulator_s).result()\n",
    "outputstate = result3.get_statevector(circuit, decimals=3)\n",
    "counts = result2.get_counts(circuit)\n",
    "print (\"counts:\",counts)\n",
    "print ('outputstate:',outputstate)\n",
    "style = {'backgroundcolor': 'lightgreen'}\n",
    "circuit.draw(output='mpl',style=style)"
   ]
  },
  {
   "cell_type": "code",
   "execution_count": 8,
   "metadata": {},
   "outputs": [
    {
     "name": "stdout",
     "output_type": "stream",
     "text": [
      "outputstate: [0.707+0.j 0.707+0.j]\n"
     ]
    }
   ],
   "source": [
    "circuit = QuantumCircuit(1, 1)\n",
    "circuit.h(0)\n",
    "result3=execute(circuit,simulator_s).result()\n",
    "outputstate = result3.get_statevector(circuit, decimals=3)\n",
    "print ('outputstate:',outputstate)"
   ]
  },
  {
   "cell_type": "markdown",
   "metadata": {},
   "source": [
    "# Big Summary (Single Qubit)\n",
    "Always do unitary and statevector before circuit.measure().\n",
    "Below everything is done in proper order!\n"
   ]
  },
  {
   "cell_type": "markdown",
   "metadata": {},
   "source": [
    "### Single qbit with H gate"
   ]
  },
  {
   "cell_type": "code",
   "execution_count": 9,
   "metadata": {},
   "outputs": [
    {
     "name": "stdout",
     "output_type": "stream",
     "text": [
      "outputstate:\n",
      " [0.707+0.j 0.707+0.j]\n",
      "UnitaryMatrix:\n",
      " [[ 0.70710678+0.j  0.70710678+0.j]\n",
      " [ 0.70710678+0.j -0.70710678+0.j]]\n",
      "counts:\n",
      " {'1': 505, '0': 519}\n"
     ]
    },
    {
     "data": {
      "image/png": "[encoded data removed]",
      "text/plain": [
       "<Figure size 233.576x144.48 with 1 Axes>"
      ]
     },
     "execution_count": 9,
     "metadata": {},
     "output_type": "execute_result"
    }
   ],
   "source": [
    "circuit = QuantumCircuit(1, 1)\n",
    "circuit.h(0)\n",
    "#Statevector part\n",
    "result3=execute(circuit,simulator_s).result()\n",
    "outputstate = result3.get_statevector(circuit, decimals=3)\n",
    "print ('outputstate:\\n',outputstate)\n",
    "#unitary vector part\n",
    "result=execute(circuit,simulator_u).result()\n",
    "unitary=result.get_unitary(circuit)\n",
    "print ('UnitaryMatrix:\\n',unitary)\n",
    "#Now Quasm Simulator part where we need to measure\n",
    "circuit.measure(0,0)\n",
    "result2=execute(circuit,simulator_q).result()\n",
    "print (\"counts:\\n\",result2.get_counts(circuit))\n",
    "style = {'backgroundcolor': 'lightgreen'}\n",
    "circuit.draw(output='mpl',style=style)"
   ]
  },
  {
   "cell_type": "markdown",
   "metadata": {},
   "source": [
    "\n",
    "$\n",
    "Initial state:|0> \\\\  \n",
    "After: H= \\frac{1}{\\sqrt{2}}|0> + \\frac{1}{\\sqrt{2}}|1>\\\\  \n",
    "            H = \\frac{1}{\\sqrt{2}} \\begin{bmatrix}\n",
    "    1  & 1 \\\\\n",
    "    1 & -1\n",
    "\\end{bmatrix}\\\\ |1 > = \\begin{bmatrix}\n",
    "    1  \\\\\n",
    "    0\n",
    "\\end{bmatrix} ; |0> = \\begin{bmatrix}\n",
    "    0\\\\\n",
    "    1\n",
    "\\end{bmatrix}$\n",
    "            "
   ]
  },
  {
   "cell_type": "markdown",
   "metadata": {},
   "source": [
    "### Single Qbit with Pauli-X and H gate!"
   ]
  },
  {
   "cell_type": "code",
   "execution_count": 10,
   "metadata": {},
   "outputs": [],
   "source": [
    "# In this case it is a matrix multiplication of H X Pauli-X!"
   ]
  },
  {
   "cell_type": "markdown",
   "metadata": {},
   "source": [
    "\n",
    "Manual Approch to determine Unitary Matrix: \\\n",
    "$ \n",
    "H \\otimes PauliX  =  \\frac{1}{\\sqrt{2}} \\begin{bmatrix}\n",
    "    1  &   1 \\\\\n",
    "    1  &  -1\n",
    "\\end{bmatrix}\\begin{bmatrix}\n",
    "    0  &   1 \\\\\n",
    "    1  &   0\n",
    "\\end{bmatrix}  = \\frac{1}{\\sqrt{2}}\\begin{bmatrix}\n",
    "1 & 1 \\\\\n",
    "-1 & 1\n",
    "\\end{bmatrix}$"
   ]
  },
  {
   "cell_type": "code",
   "execution_count": 12,
   "metadata": {},
   "outputs": [
    {
     "name": "stdout",
     "output_type": "stream",
     "text": [
      "outputstate:\n",
      " [ 0.707+0.j -0.707+0.j]\n",
      "UnitaryMatrix:\n",
      " [[ 0.70710678+0.j  0.70710678+0.j]\n",
      " [-0.70710678+0.j  0.70710678+0.j]]\n",
      "counts:\n",
      " {'1': 532, '0': 492}\n"
     ]
    },
    {
     "data": {
      "image/png": "[encoded data removed]",
      "text/plain": [
       "<Figure size 293.776x144.48 with 1 Axes>"
      ]
     },
     "execution_count": 12,
     "metadata": {},
     "output_type": "execute_result"
    }
   ],
   "source": [
    "circuit = QuantumCircuit(1, 1)\n",
    "circuit.x(0)\n",
    "circuit.h(0)\n",
    "#Statevector part\n",
    "result3=execute(circuit,simulator_s).result()\n",
    "outputstate = result3.get_statevector(circuit, decimals=3)\n",
    "print ('outputstate:\\n',outputstate)\n",
    "#unitary vector part\n",
    "result=execute(circuit,simulator_u).result()\n",
    "unitary=result.get_unitary(circuit)\n",
    "print ('UnitaryMatrix:\\n',unitary)\n",
    "#Now Quasm Simulator part where we need to measure\n",
    "circuit.measure(0,0)\n",
    "result2=execute(circuit,simulator_q).result()\n",
    "print (\"counts:\\n\",result2.get_counts(circuit))\n",
    "style = {'backgroundcolor': 'lightgreen'}\n",
    "circuit.draw(output='mpl',style=style)"
   ]
  },
  {
   "cell_type": "markdown",
   "metadata": {},
   "source": [
    "### Two qubits with H-gate on first qubit"
   ]
  },
  {
   "cell_type": "code",
   "execution_count": 13,
   "metadata": {},
   "outputs": [],
   "source": [
    "#In this case first operator is H and second is Identity Matrix.\n",
    "#The product of these two gives a transformation matrix as follows:"
   ]
  },
  {
   "cell_type": "markdown",
   "metadata": {},
   "source": [
    "\n",
    "Manual Approch to determine Unitary Matrix: \\\n",
    "$I \\otimes H  =  \\begin{bmatrix}\n",
    "    1  &   0 \\\\\n",
    "    0  &   1\n",
    "\\end{bmatrix} \\otimes \\frac{1}{\\sqrt{2}} \\begin{bmatrix}\n",
    "    1  &   1 \\\\\n",
    "    1  &  -1\n",
    "\\end{bmatrix}  = \\frac{1}{\\sqrt{2}}\\begin{bmatrix}\n",
    "1 & 1 & 0 & 0\\\\\n",
    "1 & -1 & 0 & 0\\\\\n",
    "0 & 0 & 1 & 1 \\\\\n",
    "0 & 0 & 1 & -1\n",
    "\\end{bmatrix}$\\\\\n",
    "\n",
    "If the H-gate were on 2nd qubit, It will be:\n",
    "$H \\otimes I  = \\frac{1}{\\sqrt{2}} \\begin{bmatrix}\n",
    "    1  &   1 \\\\\n",
    "    1  &  -1\n",
    "\\end{bmatrix} \\otimes \\begin{bmatrix}\n",
    "    1  &   0 \\\\\n",
    "    0  &   1\n",
    "\\end{bmatrix}  = \\frac{1}{\\sqrt{2}}\\begin{bmatrix}\n",
    "1 & 0 & 1 & 0\\\\\n",
    "0 & 1 & 0 & 1\\\\\n",
    "1 & 0 & -1 & 0 \\\\\n",
    "0 & 1 & 0 & -1\n",
    "\\end{bmatrix}$"
   ]
  },
  {
   "cell_type": "code",
   "execution_count": 14,
   "metadata": {},
   "outputs": [
    {
     "name": "stdout",
     "output_type": "stream",
     "text": [
      "outputstate:\n",
      " [0.707+0.j 0.707+0.j 0.   +0.j 0.   +0.j]\n",
      "UnitaryMatrix:\n",
      " [[ 0.70710678+0.j  0.70710678+0.j  0.        +0.j  0.        +0.j]\n",
      " [ 0.70710678+0.j -0.70710678+0.j  0.        +0.j  0.        +0.j]\n",
      " [ 0.        +0.j  0.        +0.j  0.70710678+0.j  0.70710678+0.j]\n",
      " [ 0.        +0.j  0.        +0.j  0.70710678+0.j -0.70710678+0.j]]\n",
      "counts:\n",
      " {'01': 496, '00': 528}\n"
     ]
    },
    {
     "data": {
      "image/png": "[encoded data removed]",
      "text/plain": [
       "<Figure size 276.92x204.68 with 1 Axes>"
      ]
     },
     "execution_count": 14,
     "metadata": {},
     "output_type": "execute_result"
    }
   ],
   "source": [
    "circuit = QuantumCircuit(2, 2)\n",
    "circuit.h(0)\n",
    "#Statevector part\n",
    "result3=execute(circuit,simulator_s).result()\n",
    "outputstate = result3.get_statevector(circuit, decimals=3)\n",
    "print ('outputstate:\\n',outputstate)\n",
    "#unitary vector part\n",
    "result=execute(circuit,simulator_u).result()\n",
    "unitary=result.get_unitary(circuit)\n",
    "print ('UnitaryMatrix:\\n',unitary)\n",
    "#Now Quasm Simulator part where we need to measure\n",
    "circuit.measure([0,1],[0,1])\n",
    "result2=execute(circuit,simulator_q).result()\n",
    "print (\"counts:\\n\",result2.get_counts(circuit))\n",
    "style = {'backgroundcolor': 'lightgreen'}\n",
    "circuit.draw(output='mpl',style=style)"
   ]
  },
  {
   "cell_type": "markdown",
   "metadata": {},
   "source": [
    "### Two qbits with single H-Gate for each bit"
   ]
  },
  {
   "cell_type": "markdown",
   "metadata": {},
   "source": [
    "$H_1 \\otimes H_1 = \\frac{1}{\\sqrt{2}}\\begin{bmatrix}\n",
    "    1  &  1 \\\\\n",
    "    1  & -1\n",
    "\\end{bmatrix} \\otimes \\frac{1}{\\sqrt{2}}\\begin{bmatrix}\n",
    "    1  &  1 \\\\\n",
    "    1  & -1\n",
    "\\end{bmatrix} = \\frac{1}{2} \\begin{bmatrix}\n",
    "    1  &  1  &  1  &  1 \\\\\n",
    "    1  &  -1  &  1  &  -1 \\\\\n",
    "    1  &  1  &  -1  &  -1 \\\\\n",
    "    1  &  -1  &  -1  &  1 \\\\\n",
    "\\end{bmatrix}$"
   ]
  },
  {
   "cell_type": "code",
   "execution_count": 15,
   "metadata": {},
   "outputs": [
    {
     "name": "stdout",
     "output_type": "stream",
     "text": [
      "outputstate:\n",
      " [0.5+0.j 0.5+0.j 0.5+0.j 0.5+0.j]\n",
      "UnitaryMatrix:\n",
      " [[ 0.5+0.j  0.5+0.j  0.5+0.j  0.5+0.j]\n",
      " [ 0.5+0.j -0.5+0.j  0.5+0.j -0.5+0.j]\n",
      " [ 0.5+0.j  0.5+0.j -0.5+0.j -0.5+0.j]\n",
      " [ 0.5+0.j -0.5+0.j -0.5+0.j  0.5+0.j]]\n",
      "counts:\n",
      " {'01': 241, '10': 267, '00': 231, '11': 285}\n"
     ]
    },
    {
     "data": {
      "image/png": "[encoded data removed]",
      "text/plain": [
       "<Figure size 337.12x204.68 with 1 Axes>"
      ]
     },
     "execution_count": 15,
     "metadata": {},
     "output_type": "execute_result"
    }
   ],
   "source": [
    "circuit = QuantumCircuit(2, 2)\n",
    "circuit.h(0)\n",
    "circuit.h(1)\n",
    "#Statevector part\n",
    "result3=execute(circuit,simulator_s).result()\n",
    "outputstate = result3.get_statevector(circuit, decimals=3)\n",
    "print ('outputstate:\\n',outputstate)\n",
    "#unitary vector part\n",
    "result=execute(circuit,simulator_u).result()\n",
    "unitary=result.get_unitary(circuit)\n",
    "print ('UnitaryMatrix:\\n',unitary)\n",
    "#Now Quasm Simulator part where we need to measure\n",
    "circuit.measure([0,1],[0,1])\n",
    "result2=execute(circuit,simulator_q).result()\n",
    "print (\"counts:\\n\",result2.get_counts(circuit))\n",
    "style = {'backgroundcolor': 'lightgreen'}\n",
    "circuit.draw(output='mpl',style=style)"
   ]
  },
  {
   "cell_type": "markdown",
   "metadata": {},
   "source": [
    "Basis Vectors for 2 qubits are as follows:\\\n",
    "$\n",
    "|00> = \\begin{bmatrix}\n",
    "    1  \\\\\n",
    "    0 \\\\\n",
    "    0\\\\\n",
    "    0\n",
    "\\end{bmatrix} ; |01> = \\begin{bmatrix}\n",
    "    0\\\\\n",
    "    1\\\\\n",
    "    0\\\\\n",
    "    0\n",
    "\\end{bmatrix} ; |10> = \\begin{bmatrix}\n",
    "    0  \\\\\n",
    "    0 \\\\\n",
    "    1\\\\\n",
    "    0\n",
    "\\end{bmatrix} ; |11> = \\begin{bmatrix}\n",
    "    0\\\\\n",
    "    0\\\\\n",
    "    0\\\\\n",
    "    1\n",
    "\\end{bmatrix}$"
   ]
  },
  {
   "cell_type": "markdown",
   "metadata": {},
   "source": [
    "This is a tensor product of two Hadamard transform. Lets apply it to |00> \n",
    "$(\\frac{1}{\\sqrt{2}}|0> + \\frac{1}{\\sqrt{2}}|1>) \\otimes (\\frac{1}{\\sqrt{2}}|0> + \\frac{1}{\\sqrt{2}}|1>) = \\frac{1}{{2}}|00> + \\frac{1}{{2}}|01>  +  \\frac{1}{{2}}|10> + \\frac{1}{{2}}|11>$\n",
    "$H_2|00>  = \\frac{1}{2} \\begin{bmatrix}\n",
    "    1  &  1  &  1  &  1 \\\\\n",
    "    1  &  -1  &  1  &  -1 \\\\\n",
    "    1  &  1  &  -1  &  -1 \\\\\n",
    "    1  &  -1  &  -1  &  1 \\\\\n",
    "\\end{bmatrix}\\begin{bmatrix} \n",
    "    1  \\\\\n",
    "    0 \\\\\n",
    "    0\\\\\n",
    "    0\n",
    "    \\end{bmatrix}\n",
    "    = \\begin{bmatrix}\n",
    "    \\frac{1}{2} \\\\\n",
    "    \\frac{1}{2} \\\\\n",
    "    \\frac{1}{2}\\\\\n",
    "    \\frac{1}{2}\n",
    "\\end{bmatrix}$\\\\\n",
    "$\n",
    "=  \\frac{1}{{2}}|00> + \\frac{1}{{2}}|01>  +  \\frac{1}{{2}}|10> + \\frac{1}{{2}}|11>$"
   ]
  },
  {
   "cell_type": "markdown",
   "metadata": {},
   "source": [
    "### Three Qubits with H gate on each"
   ]
  },
  {
   "cell_type": "code",
   "execution_count": 17,
   "metadata": {},
   "outputs": [
    {
     "name": "stdout",
     "output_type": "stream",
     "text": [
      "outputstate:\n",
      " [0.354+0.j 0.354+0.j 0.354+0.j 0.354+0.j 0.354+0.j 0.354+0.j 0.354+0.j\n",
      " 0.354+0.j]\n",
      "UnitaryMatrix:\n",
      " [[ 0.35355339+0.j  0.35355339+0.j  0.35355339+0.j  0.35355339+0.j\n",
      "   0.35355339+0.j  0.35355339+0.j  0.35355339+0.j  0.35355339+0.j]\n",
      " [ 0.35355339+0.j -0.35355339+0.j  0.35355339+0.j -0.35355339+0.j\n",
      "   0.35355339+0.j -0.35355339+0.j  0.35355339+0.j -0.35355339+0.j]\n",
      " [ 0.35355339+0.j  0.35355339+0.j -0.35355339+0.j -0.35355339+0.j\n",
      "   0.35355339+0.j  0.35355339+0.j -0.35355339+0.j -0.35355339+0.j]\n",
      " [ 0.35355339+0.j -0.35355339+0.j -0.35355339+0.j  0.35355339+0.j\n",
      "   0.35355339+0.j -0.35355339+0.j -0.35355339+0.j  0.35355339+0.j]\n",
      " [ 0.35355339+0.j  0.35355339+0.j  0.35355339+0.j  0.35355339+0.j\n",
      "  -0.35355339+0.j -0.35355339+0.j -0.35355339+0.j -0.35355339+0.j]\n",
      " [ 0.35355339+0.j -0.35355339+0.j  0.35355339+0.j -0.35355339+0.j\n",
      "  -0.35355339+0.j  0.35355339+0.j -0.35355339+0.j  0.35355339+0.j]\n",
      " [ 0.35355339+0.j  0.35355339+0.j -0.35355339+0.j -0.35355339+0.j\n",
      "  -0.35355339+0.j -0.35355339+0.j  0.35355339+0.j  0.35355339+0.j]\n",
      " [ 0.35355339+0.j -0.35355339+0.j -0.35355339+0.j  0.35355339+0.j\n",
      "  -0.35355339+0.j  0.35355339+0.j  0.35355339+0.j -0.35355339+0.j]]\n",
      "counts:\n",
      " {'001': 123, '110': 129, '000': 137, '101': 126, '010': 138, '100': 117, '011': 131, '111': 123}\n"
     ]
    },
    {
     "data": {
      "image/png": "[encoded data removed]",
      "text/plain": [
       "<Figure size 397.32x264.88 with 1 Axes>"
      ]
     },
     "execution_count": 17,
     "metadata": {},
     "output_type": "execute_result"
    }
   ],
   "source": [
    "circuit = QuantumCircuit(3, 3)\n",
    "circuit.h(0)\n",
    "circuit.h(1)\n",
    "circuit.h(2)\n",
    "#Statevector part\n",
    "result3=execute(circuit,simulator_s).result()\n",
    "outputstate = result3.get_statevector(circuit, decimals=3)\n",
    "print ('outputstate:\\n',outputstate)\n",
    "#unitary vector part\n",
    "result=execute(circuit,simulator_u).result()\n",
    "unitary=result.get_unitary(circuit)\n",
    "print ('UnitaryMatrix:\\n',unitary)\n",
    "#Now Quasm Simulator part where we need to measure\n",
    "circuit.measure([0,1,2],[0,1,2])\n",
    "result2=execute(circuit,simulator_q).result()\n",
    "print (\"counts:\\n\",result2.get_counts(circuit))\n",
    "style = {'backgroundcolor': 'lightgreen'}\n",
    "circuit.draw(output='mpl',style=style)"
   ]
  },
  {
   "cell_type": "markdown",
   "metadata": {},
   "source": [
    "\n",
    "$\n",
    "H_3|000> = \\frac{1}{2\\sqrt{2}}(|000>  + |001> + |010> + |011>  +  |100> +  |101> + |110> +|111>)$  \n",
    "\n",
    "\n",
    "In Matrix form the multiplication looks like this:  \n",
    "$\n",
    "H_3|000> = \\frac{1}{2\\sqrt{2}} \\begin{bmatrix}\n",
    "    1  &   1  &  1  &   1  &  1  &   1  &  1  &   1 \\\\\n",
    "    1  &  -1  &  1  &  -1  &  1  &  -1  &  1  &  -1 \\\\\n",
    "    1  &   1  & -1  &  -1  &  1  &   1  & -1  &  -1 \\\\\n",
    "    1  &  -1  & -1  &   1  &  1  &  -1  & -1  &   1 \\\\\n",
    "    1  &   1  &  1  &   1  &  -1  & -1  &  -1  & -1 \\\\\n",
    "    1  &  -1  &  1  &  -1  &  -1  &  1  &  -1  &  1 \\\\\n",
    "    1  &   1  & -1  &  -1  &  -1  &   -1  &  1  &   1 \\\\\n",
    "    1  &  -1  & -1  &   1  &  -1  &    1  &  1  &  -1 \\\\\n",
    "\\end{bmatrix} \\begin{bmatrix} \n",
    "    1  \\\\\n",
    "    0 \\\\\n",
    "    0\\\\\n",
    "    0\\\\\n",
    "    0\\\\\n",
    "    0\\\\\n",
    "    0\\\\\n",
    "    0\n",
    "    \\end{bmatrix}\n",
    "    = \\begin{bmatrix}\n",
    "    \\frac{1}{2\\sqrt{2}} \\\\\n",
    "    \\frac{1}{2\\sqrt{2}} \\\\\n",
    "    \\frac{1}{2\\sqrt{2}}\\\\\n",
    "    \\frac{1}{2\\sqrt{2}}\\\\\n",
    "    \\frac{1}{2\\sqrt{2}} \\\\\n",
    "    \\frac{1}{2\\sqrt{2}} \\\\\n",
    "    \\frac{1}{2\\sqrt{2}}\\\\\n",
    "    \\frac{1}{2\\sqrt{2}}\n",
    "\\end{bmatrix}\n",
    "$\n",
    "$\n",
    "= \\frac{1}{2\\sqrt{2}}(|000>  + |001> + |010> + |011>  +  |100> +  |101> + |110> +|111>)\n",
    "$\n"
   ]
  },
  {
   "cell_type": "code",
   "execution_count": null,
   "metadata": {},
   "outputs": [],
   "source": []
  }
 ],
 "metadata": {
  "kernelspec": {
   "display_name": "Python 3",
   "language": "python",
   "name": "python3"
  },
  "language_info": {
   "codemirror_mode": {
    "name": "ipython",
    "version": 3
   },
   "file_extension": ".py",
   "mimetype": "text/x-python",
   "name": "python",
   "nbconvert_exporter": "python",
   "pygments_lexer": "ipython3",
   "version": "3.7.6"
  }
 },
 "nbformat": 4,
 "nbformat_minor": 4
}
