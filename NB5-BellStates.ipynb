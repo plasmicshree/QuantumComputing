{
 "cells": [
  {
   "cell_type": "markdown",
   "metadata": {},
   "source": [
    "Bell state are specifice quantum states of two qubits that represents the simplest (and maximal) examples of quatnum entanglement. Bell states are form of entangled and normalized basis vectors i.e., sum of their probabilities equals to 1."
   ]
  },
  {
   "cell_type": "code",
   "execution_count": 1,
   "metadata": {},
   "outputs": [],
   "source": [
    "import numpy as np\n",
    "from qiskit import(\n",
    "  QuantumCircuit,\n",
    "  execute,\n",
    "  Aer)\n",
    "from qiskit.visualization import plot_histogram\n",
    "from qiskit.visualization import plot_bloch_multivector"
   ]
  },
  {
   "cell_type": "code",
   "execution_count": 2,
   "metadata": {},
   "outputs": [],
   "source": [
    "simulator_q = Aer.get_backend('qasm_simulator')\n",
    "simulator_s= Aer.get_backend('statevector_simulator')\n",
    "simulator_u = Aer.get_backend('unitary_simulator')"
   ]
  },
  {
   "cell_type": "markdown",
   "metadata": {},
   "source": [
    "## Design a Bell Circuit"
   ]
  },
  {
   "cell_type": "code",
   "execution_count": 3,
   "metadata": {},
   "outputs": [
    {
     "name": "stdout",
     "output_type": "stream",
     "text": [
      "outputstate:\n",
      " [0.707+0.j 0.   +0.j 0.   +0.j 0.707+0.j]\n",
      "UnitaryMatrix:\n",
      " [[ 0.70710678+0.j  0.70710678+0.j  0.        +0.j  0.        +0.j]\n",
      " [ 0.        +0.j  0.        +0.j  0.70710678+0.j -0.70710678+0.j]\n",
      " [ 0.        +0.j  0.        +0.j  0.70710678+0.j  0.70710678+0.j]\n",
      " [ 0.70710678+0.j -0.70710678+0.j  0.        +0.j  0.        +0.j]]\n",
      "counts:\n",
      " {'11': 491, '00': 533}\n"
     ]
    },
    {
     "data": {
      "image/png": "[encoded data removed]",
      "text/plain": [
       "<Figure size 397.32x204.68 with 1 Axes>"
      ]
     },
     "execution_count": 3,
     "metadata": {},
     "output_type": "execute_result"
    }
   ],
   "source": [
    "circuit = QuantumCircuit(2, 2)\n",
    "circuit.h(0)\n",
    "circuit.cx(0,1)\n",
    "#Statevector part\n",
    "result3=execute(circuit,simulator_s).result()\n",
    "outputstate = result3.get_statevector(circuit, decimals=3)\n",
    "print ('outputstate:\\n',outputstate)\n",
    "#unitary vector part\n",
    "result=execute(circuit,simulator_u).result()\n",
    "unitary=result.get_unitary(circuit)\n",
    "print ('UnitaryMatrix:\\n',unitary)\n",
    "#Now Quasm Simulator part where we need to measure\n",
    "circuit.measure([0,1],[0,1])\n",
    "result2=execute(circuit,simulator_q).result()\n",
    "print (\"counts:\\n\",result2.get_counts(circuit))\n",
    "style = {'backgroundcolor': 'lightgreen'}\n",
    "circuit.draw(output='mpl',style=style)"
   ]
  },
  {
   "cell_type": "code",
   "execution_count": 4,
   "metadata": {},
   "outputs": [
    {
     "name": "stdout",
     "output_type": "stream",
     "text": [
      "Identity: \n",
      " [[1. 0.]\n",
      " [0. 1.]]\n",
      "\n",
      "Hadamard: \n",
      " [[ 0.70710678  0.70710678]\n",
      " [ 0.70710678 -0.70710678]]\n",
      "\n",
      "CNOT: \n",
      " [[1. 0. 0. 0.]\n",
      " [0. 0. 0. 1.]\n",
      " [0. 0. 1. 0.]\n",
      " [0. 1. 0. 0.]]\n"
     ]
    }
   ],
   "source": [
    "from qiskit.extensions.standard.ch import HGate\n",
    "from qiskit.extensions.standard.iden import IdGate\n",
    "from qiskit.extensions.standard.cx import CnotGate\n",
    "\n",
    "print (\"Identity: \\n\", IdGate().to_matrix().real )\n",
    "print ()\n",
    "print (\"Hadamard: \\n\", HGate().to_matrix().real )\n",
    "print ()\n",
    "print (\"CNOT: \\n\", CnotGate().to_matrix().real)"
   ]
  },
  {
   "cell_type": "markdown",
   "metadata": {},
   "source": [
    "Unitary Operator:\n",
    "\n",
    "Order is CNOT $\\otimes$ H.\n",
    "$=1/\\sqrt{2}\\begin{bmatrix} 1 & 0 & 0 & 0 \\\\\n",
    "                  0 & 0 & 0 & 1 \\\\\n",
    "                  0 & 0 & 1 & 0 \\\\\n",
    "                  0 & 1 & 0 & 0 \\end{bmatrix} \\begin{bmatrix} 1 & 1 & 0 & 0 \\\\\n",
    "                  1 & -1 & 0 & 0 \\\\\n",
    "                  0 & 0 & 1 & 1 \\\\\n",
    "                  0 & 0 & 1 & -1 \\end{bmatrix}=1/\\sqrt{2}\\begin{bmatrix} 1 & 1 & 0 & 0 \\\\\n",
    "                  0 & 0 & 1 & -1 \\\\\n",
    "                  0 & 0 & 1 & 1 \\\\\n",
    "                  1 & -1 & 0 & 0 \\end{bmatrix}$"
   ]
  },
  {
   "cell_type": "markdown",
   "metadata": {},
   "source": [
    "This unitary operator operates on the initial state |00> to give final result.\n",
    "$1/\\sqrt{2}\\begin{bmatrix} 1 & 1 & 0 & 0 \\\\\n",
    "                  0 & 0 & 1 & -1 \\\\\n",
    "                  0 & 0 & 1 & 1 \\\\\n",
    "                  1 & -1 & 0 & 0 \\end{bmatrix} \\begin{bmatrix} 1\\\\0\\\\0\\\\0\\\\\n",
    "\\end{bmatrix}=1/\\sqrt{2}\\begin{bmatrix} 1\\\\0\\\\0\\\\1\\\\\n",
    "\\end{bmatrix}$ \\\n",
    "\n",
    "This final matrix is a superposition of two states:\n",
    "$\\frac{1}{\\sqrt{2}}|00> + \\frac{1}{\\sqrt{2}}|11>$\n"
   ]
  },
  {
   "cell_type": "markdown",
   "metadata": {},
   "source": [
    "Manual approach:\\\n",
    "initial state = |00>\\\n",
    "After application of Hadamard Gate: $\\frac{1}{\\sqrt{2}}|00> + \\frac{1}{\\sqrt{2}}|10>$\n",
    "\n",
    "After application of CNOT Gate: $\\frac{1}{\\sqrt{2}}|00> + \\frac{1}{\\sqrt{2}}|11>$ (Since CNOT flips 0 to 1 if first qubit is 1)"
   ]
  },
  {
   "cell_type": "markdown",
   "metadata": {},
   "source": [
    "### Bellstate with two H and CNOTS"
   ]
  },
  {
   "cell_type": "code",
   "execution_count": 5,
   "metadata": {},
   "outputs": [
    {
     "name": "stdout",
     "output_type": "stream",
     "text": [
      "outputstate:\n",
      " [ 0.5+0.j -0.5+0.j  0.5+0.j  0.5+0.j]\n",
      "UnitaryMatrix:\n",
      " [[ 0.5+0.j  0.5+0.j  0.5+0.j -0.5+0.j]\n",
      " [-0.5+0.j  0.5+0.j  0.5+0.j  0.5+0.j]\n",
      " [ 0.5+0.j -0.5+0.j  0.5+0.j  0.5+0.j]\n",
      " [ 0.5+0.j  0.5+0.j -0.5+0.j  0.5+0.j]]\n",
      "counts:\n",
      " {'11': 260, '01': 258, '00': 258, '10': 248}\n"
     ]
    },
    {
     "data": {
      "image/png": "[encoded data removed]",
      "text/plain": [
       "<Figure size 517.72x204.68 with 1 Axes>"
      ]
     },
     "execution_count": 5,
     "metadata": {},
     "output_type": "execute_result"
    }
   ],
   "source": [
    "circuit = QuantumCircuit(2, 2)\n",
    "circuit.h(0)\n",
    "circuit.cx(0,1)\n",
    "circuit.h(0)\n",
    "circuit.cx(0,1)\n",
    "#Statevector part\n",
    "result3=execute(circuit,simulator_s).result()\n",
    "outputstate = result3.get_statevector(circuit, decimals=3)\n",
    "print ('outputstate:\\n',outputstate)\n",
    "#unitary vector part\n",
    "result=execute(circuit,simulator_u).result()\n",
    "unitary=result.get_unitary(circuit)\n",
    "print ('UnitaryMatrix:\\n',unitary)\n",
    "#Now Quasm Simulator part where we need to measure\n",
    "circuit.measure([0,1],[0,1])\n",
    "result2=execute(circuit,simulator_q).result()\n",
    "print (\"counts:\\n\",result2.get_counts(circuit))\n",
    "style = {'backgroundcolor': 'lightgreen'}\n",
    "circuit.draw(output='mpl',style=style)"
   ]
  },
  {
   "cell_type": "markdown",
   "metadata": {},
   "source": [
    "Manual approach:\\\n",
    "initial state = |00>\\\n",
    "After application of Hadamard Gate: $\\frac{1}{\\sqrt{2}}|00> + \\frac{1}{\\sqrt{2}}|10>$\n",
    "\n",
    "After application of CNOT Gate: $\\frac{1}{\\sqrt{2}}|00> + \\frac{1}{\\sqrt{2}}|11>$ (Since CNOT flips 0 to 1 if first qubit is 1)\n",
    "\n",
    "After Applying another H: $\\frac{1}{2}|00> + \\frac{1}{2}|10>+ \\frac{1}{2}|01>  - \\frac{1}{2}|11>$\n",
    "\n",
    "After applying another CNOT: $\\frac{1}{2}|00>+ \\frac{1}{2}|11> + \\frac{1}{2}|01>  - \\frac{1}{2}|10>$"
   ]
  },
  {
   "cell_type": "markdown",
   "metadata": {},
   "source": [
    "### Bell State with Three H and C-NOTs"
   ]
  },
  {
   "cell_type": "code",
   "execution_count": 6,
   "metadata": {},
   "outputs": [
    {
     "name": "stdout",
     "output_type": "stream",
     "text": [
      "outputstate:\n",
      " [0.   +0.j 0.   +0.j 0.707+0.j 0.707+0.j]\n",
      "UnitaryMatrix:\n",
      " [[ 0.        +0.j  0.70710678+0.j  0.70710678+0.j  0.        +0.j]\n",
      " [ 0.        +0.j -0.70710678+0.j  0.70710678+0.j  0.        +0.j]\n",
      " [ 0.70710678+0.j  0.        +0.j  0.        +0.j  0.70710678+0.j]\n",
      " [ 0.70710678+0.j  0.        +0.j  0.        +0.j -0.70710678+0.j]]\n",
      "counts:\n",
      " {'11': 494, '10': 530}\n"
     ]
    },
    {
     "data": {
      "image/png": "[encoded data removed]",
      "text/plain": [
       "<Figure size 638.12x204.68 with 1 Axes>"
      ]
     },
     "execution_count": 6,
     "metadata": {},
     "output_type": "execute_result"
    }
   ],
   "source": [
    "circuit = QuantumCircuit(2, 2)\n",
    "circuit.h(0)\n",
    "circuit.cx(0,1)\n",
    "circuit.h(0)\n",
    "circuit.cx(0,1)\n",
    "circuit.h(0)\n",
    "circuit.cx(0,1)\n",
    "#Statevector part\n",
    "result3=execute(circuit,simulator_s).result()\n",
    "outputstate = result3.get_statevector(circuit, decimals=3)\n",
    "print ('outputstate:\\n',outputstate)\n",
    "#unitary vector part\n",
    "result=execute(circuit,simulator_u).result()\n",
    "unitary=result.get_unitary(circuit)\n",
    "print ('UnitaryMatrix:\\n',unitary)\n",
    "#Now Quasm Simulator part where we need to measure\n",
    "circuit.measure([0,1],[0,1])\n",
    "result2=execute(circuit,simulator_q).result()\n",
    "print (\"counts:\\n\",result2.get_counts(circuit))\n",
    "style = {'backgroundcolor': 'lightgreen'}\n",
    "circuit.draw(output='mpl',style=style)"
   ]
  },
  {
   "cell_type": "markdown",
   "metadata": {},
   "source": [
    "Manual approach:\\\n",
    "Outer zero is first bit and inner zero is second bit.\\\n",
    "initial state = |00>\\\n",
    "After application of Hadamard Gate: $\\frac{1}{\\sqrt{2}}|00> + \\frac{1}{\\sqrt{2}}|01>$\n",
    "\n",
    "After application of CNOT Gate: $\\frac{1}{\\sqrt{2}}|00> + \\frac{1}{\\sqrt{2}}|11>$ (Since CNOT flips 0 to 1 if first qubit is 1)\n",
    "\n",
    "\n",
    "After Applying another H: $\\frac{1}{2}|00>+ \\frac{1}{2}|01> + \\frac{1}{2}|10>  - \\frac{1}{2}|11>$\n",
    "\n",
    "\n",
    "After applying another CNOT: $\\frac{1}{2}|00> + \\frac{1}{2}|01>+ \\frac{1}{2}|11>  - \\frac{1}{2}|10>$\n",
    "\n",
    "After applying another H: $\\frac{1}{2\\sqrt{2}}[|00> + |01> + |10> -|11> + |10> + |11> - |00> +|01>]\\\\\n",
    "=\\frac{1}{\\sqrt{2}}[ |01>+|10> ]$\n",
    "\n",
    "After applying another CNOT: $\\frac{1}{\\sqrt{2}}[ |11> + |10>]$"
   ]
  },
  {
   "cell_type": "code",
   "execution_count": null,
   "metadata": {},
   "outputs": [],
   "source": []
  }
 ],
 "metadata": {
  "kernelspec": {
   "display_name": "Python 3",
   "language": "python",
   "name": "python3"
  },
  "language_info": {
   "codemirror_mode": {
    "name": "ipython",
    "version": 3
   },
   "file_extension": ".py",
   "mimetype": "text/x-python",
   "name": "python",
   "nbconvert_exporter": "python",
   "pygments_lexer": "ipython3",
   "version": "3.7.6"
  }
 },
 "nbformat": 4,
 "nbformat_minor": 4
}
