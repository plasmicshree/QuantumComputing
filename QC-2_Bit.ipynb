{
 "cells": [
  {
   "cell_type": "code",
   "execution_count": 1,
   "metadata": {},
   "outputs": [],
   "source": [
    "import numpy as np\n",
    "from qiskit import(\n",
    "  QuantumCircuit,\n",
    "  execute,\n",
    "  Aer)\n",
    "from qiskit.visualization import plot_histogram\n",
    "from qiskit.visualization import plot_bloch_multivector"
   ]
  },
  {
   "cell_type": "code",
   "execution_count": 2,
   "metadata": {},
   "outputs": [],
   "source": [
    "# Use Aer's qasm_simulator\n",
    "simulator1 = Aer.get_backend('qasm_simulator')\n",
    "simulator2 = Aer.get_backend('statevector_simulator')"
   ]
  },
  {
   "cell_type": "raw",
   "metadata": {},
   "source": [
    "Aer Simulators:\n",
    "QasmSimulator: Allows ideal and noisy multi-shot execution of qiskit\n",
    "circuits and returns counts or memory.\n",
    "\n",
    "UnitarySimulator: Allows ideal single-shot execution of qiskit\n",
    "circuits and returns the final unitary matrix of the circuit itself.\n",
    "\n",
    "StatevectorSimulator: Allows ideal single-shot execution of qiskit\n",
    "circuits and returns the final statevector of the simulator after \n",
    "application."
   ]
  },
  {
   "cell_type": "code",
   "execution_count": 3,
   "metadata": {},
   "outputs": [],
   "source": [
    "# Create a Quantum Circuit acting on the q register\n",
    "circuit = QuantumCircuit(2, 2)"
   ]
  },
  {
   "cell_type": "code",
   "execution_count": 4,
   "metadata": {},
   "outputs": [
    {
     "data": {
      "text/plain": [
       "<qiskit.circuit.instructionset.InstructionSet at 0x203db46b808>"
      ]
     },
     "execution_count": 4,
     "metadata": {},
     "output_type": "execute_result"
    }
   ],
   "source": [
    "# Add a H gate on qubit 0\n",
    "circuit.h(0)"
   ]
  },
  {
   "cell_type": "code",
   "execution_count": 5,
   "metadata": {},
   "outputs": [
    {
     "data": {
      "text/latex": [
       "$H = \\tfrac{1}{\\sqrt{2}}\\begin{bmatrix} 1 & 1 \\\\ 1 & -1 \\end{bmatrix}$\n"
      ],
      "text/plain": [
       "<IPython.core.display.Latex object>"
      ]
     },
     "metadata": {},
     "output_type": "display_data"
    }
   ],
   "source": [
    "%%latex\n",
    "$H = \\tfrac{1}{\\sqrt{2}}\\begin{bmatrix} 1 & 1 \\\\ 1 & -1 \\end{bmatrix}$"
   ]
  },
  {
   "cell_type": "code",
   "execution_count": 6,
   "metadata": {},
   "outputs": [],
   "source": [
    "#This puts the qubit 0 into a superposition state.\n",
    "#|ψ⟩=(|00⟩+|11⟩)/√2\n",
    "# Its qbit 1 then H puts it to |ψ⟩=(|00⟩ - |11⟩)/√2"
   ]
  },
  {
   "cell_type": "code",
   "execution_count": 7,
   "metadata": {},
   "outputs": [
    {
     "data": {
      "text/plain": [
       "<qiskit.circuit.instructionset.InstructionSet at 0x203db467b88>"
      ]
     },
     "execution_count": 7,
     "metadata": {},
     "output_type": "execute_result"
    }
   ],
   "source": [
    "# Add a CX (CNOT) gate on control qubit 0 and target qubit 1\n",
    "circuit.cx(0, 1)\n",
    "#A controlled-Not operation (CX) on control qubit 0 and target qubit 1,\n",
    "#putting the qubits in an entangled state."
   ]
  },
  {
   "cell_type": "raw",
   "metadata": {},
   "source": [
    "The CNOT gate operates on a quantum register consisting of 2 qubits. The CNOT gate flips the second qubit (the target qubit) if and only if the first qubit (the control qubit) is |1>."
   ]
  },
  {
   "cell_type": "code",
   "execution_count": 8,
   "metadata": {},
   "outputs": [
    {
     "data": {
      "text/plain": [
       "<qiskit.circuit.instructionset.InstructionSet at 0x203db45bf88>"
      ]
     },
     "execution_count": 8,
     "metadata": {},
     "output_type": "execute_result"
    }
   ],
   "source": [
    "# Map the quantum measurement to the classical bits\n",
    "# Syntax: circuit.measure(qubit, cbit)\n",
    "circuit.measure([0,1], [0,1])\n",
    "# if you pass the entire quantum and classical registers to measure,\n",
    "#the ith qubit’s measurement result will be stored in the ith classical bit."
   ]
  },
  {
   "cell_type": "code",
   "execution_count": 9,
   "metadata": {},
   "outputs": [],
   "source": [
    "# Execute the circuit on the qasm simulator for 1000 times\n",
    "job1 = execute(circuit, simulator1, shots=1000)"
   ]
  },
  {
   "cell_type": "code",
   "execution_count": 10,
   "metadata": {},
   "outputs": [],
   "source": [
    "# Grab results from the job\n",
    "result1 = job1.result()"
   ]
  },
  {
   "cell_type": "code",
   "execution_count": 11,
   "metadata": {},
   "outputs": [
    {
     "name": "stdout",
     "output_type": "stream",
     "text": [
      "\n",
      "Total count for 00 and 11 are: {'00': 501, '11': 499}\n"
     ]
    },
    {
     "data": {
      "text/html": [
       "<pre style=\"word-wrap: normal;white-space: pre;background: #fff0;line-height: 1.1;font-family: &quot;Courier New&quot;,Courier,monospace\">        ┌───┐     ┌─┐   \n",
       "q_0: |0>┤ H ├──■──┤M├───\n",
       "        └───┘┌─┴─┐└╥┘┌─┐\n",
       "q_1: |0>─────┤ X ├─╫─┤M├\n",
       "             └───┘ ║ └╥┘\n",
       " c_0: 0 ═══════════╩══╬═\n",
       "                      ║ \n",
       " c_1: 0 ══════════════╩═\n",
       "                        </pre>"
      ],
      "text/plain": [
       "<qiskit.visualization.text.TextDrawing at 0x203db4bec08>"
      ]
     },
     "execution_count": 11,
     "metadata": {},
     "output_type": "execute_result"
    }
   ],
   "source": [
    "# Returns counts\n",
    "counts = result1.get_counts(circuit)\n",
    "print(\"\\nTotal count for 00 and 11 are:\",counts)\n",
    "\n",
    "# Draw the circuit\n",
    "circuit.draw()"
   ]
  },
  {
   "cell_type": "code",
   "execution_count": 12,
   "metadata": {
    "scrolled": false
   },
   "outputs": [
    {
     "data": {
      "image/png": "[encoded data removed]",
      "text/plain": [
       "<Figure size 504x360 with 1 Axes>"
      ]
     },
     "execution_count": 12,
     "metadata": {},
     "output_type": "execute_result"
    }
   ],
   "source": [
    "# Plot a histogram\n",
    "plot_histogram(counts)"
   ]
  },
  {
   "cell_type": "raw",
   "metadata": {},
   "source": [
    "Read about Qiskit Elements Here: \n",
    " https://qiskit.org/documentation/the_elements.html   "
   ]
  },
  {
   "cell_type": "code",
   "execution_count": 13,
   "metadata": {},
   "outputs": [
    {
     "name": "stdout",
     "output_type": "stream",
     "text": [
      "[1.+0.j 0.+0.j 0.+0.j 0.+0.j]\n"
     ]
    }
   ],
   "source": [
    "# Find the output state of above transformation\n",
    "job2 = execute(circuit, simulator2)\n",
    "result2=job2.result()\n",
    "outputstate = result2.get_statevector(circuit, decimals=3)\n",
    "print(outputstate)"
   ]
  },
  {
   "cell_type": "code",
   "execution_count": 14,
   "metadata": {},
   "outputs": [],
   "source": [
    "# Ok! Let's grab a pen and paper and see if this answer is correct!\n"
   ]
  },
  {
   "cell_type": "code",
   "execution_count": 15,
   "metadata": {},
   "outputs": [
    {
     "name": "stdout",
     "output_type": "stream",
     "text": [
      "\n",
      "Total count for 00 and 11 are: {'00': 1000}\n"
     ]
    },
    {
     "data": {
      "text/html": [
       "<pre style=\"word-wrap: normal;white-space: pre;background: #fff0;line-height: 1.1;font-family: &quot;Courier New&quot;,Courier,monospace\">             ┌─┐   \n",
       "q_0: |0>──■──┤M├───\n",
       "        ┌─┴─┐└╥┘┌─┐\n",
       "q_1: |0>┤ X ├─╫─┤M├\n",
       "        └───┘ ║ └╥┘\n",
       " c_0: 0 ══════╩══╬═\n",
       "                 ║ \n",
       " c_1: 0 ═════════╩═\n",
       "                   </pre>"
      ],
      "text/plain": [
       "<qiskit.visualization.text.TextDrawing at 0x203db55b0c8>"
      ]
     },
     "execution_count": 15,
     "metadata": {},
     "output_type": "execute_result"
    }
   ],
   "source": [
    "#Checking how C-NOT works by itself!\n",
    "circuit = QuantumCircuit(2, 2)\n",
    "circuit.cx(0, 1)\n",
    "circuit.measure([0,1], [0,1])\n",
    "job1 = execute(circuit, simulator1, shots=1000)\n",
    "result3 = job1.result()\n",
    "counts = result3.get_counts(circuit)\n",
    "print(\"\\nTotal count for 00 and 11 are:\",counts)\n",
    "# Draw the circuit\n",
    "circuit.draw()"
   ]
  },
  {
   "cell_type": "code",
   "execution_count": 16,
   "metadata": {},
   "outputs": [
    {
     "data": {
      "image/png": "[encoded data removed]",
      "text/plain": [
       "<Figure size 504x360 with 1 Axes>"
      ]
     },
     "execution_count": 16,
     "metadata": {},
     "output_type": "execute_result"
    }
   ],
   "source": [
    "# Plot a histogram\n",
    "plot_histogram(counts)"
   ]
  },
  {
   "cell_type": "code",
   "execution_count": 17,
   "metadata": {},
   "outputs": [],
   "source": [
    "# Looks like NOT gate does not do anything. \n",
    "# What if |01> ?\n",
    "#Turns out C-NOT gate is not the classical NOT Gate.\n",
    "# The controlled NOT gate (or CNOT or cX) acts on 2 qubits,\n",
    "#and performs the NOT operation on the second qubit only when the first\n",
    "#qubit is |1> otherwise leaves it unchanged.\n",
    "# Upon gooling Pauli-X gate is NOT gate.\n",
    "# Lets apply Pauli_X gate 2nd bit and the do C-NOT!\n"
   ]
  },
  {
   "cell_type": "code",
   "execution_count": 18,
   "metadata": {},
   "outputs": [
    {
     "data": {
      "text/latex": [
       "$X|0>=\\begin{bmatrix} 0 & 1\\\\ 1 & 0 \\end{bmatrix} \\begin{bmatrix} 1 \\\\ 0 \\end{bmatrix} = \\begin{bmatrix} 0 \\\\ 1 \\end{bmatrix} = |1>$\n"
      ],
      "text/plain": [
       "<IPython.core.display.Latex object>"
      ]
     },
     "metadata": {},
     "output_type": "display_data"
    }
   ],
   "source": [
    "%%latex\n",
    "$X|0>=\\begin{bmatrix} 0 & 1\\\\ 1 & 0 \\end{bmatrix} \\begin{bmatrix} 1 \\\\ 0 \\end{bmatrix} = \\begin{bmatrix} 0 \\\\ 1 \\end{bmatrix} = |1>$"
   ]
  },
  {
   "cell_type": "code",
   "execution_count": 19,
   "metadata": {},
   "outputs": [
    {
     "name": "stdout",
     "output_type": "stream",
     "text": [
      "\n",
      "Total count for 00 and 11 are: {'10': 1000}\n"
     ]
    },
    {
     "data": {
      "text/html": [
       "<pre style=\"word-wrap: normal;white-space: pre;background: #fff0;line-height: 1.1;font-family: &quot;Courier New&quot;,Courier,monospace\">                  ┌─┐   \n",
       "q_0: |0>───────■──┤M├───\n",
       "        ┌───┐┌─┴─┐└╥┘┌─┐\n",
       "q_1: |0>┤ X ├┤ X ├─╫─┤M├\n",
       "        └───┘└───┘ ║ └╥┘\n",
       " c_0: 0 ═══════════╩══╬═\n",
       "                      ║ \n",
       " c_1: 0 ══════════════╩═\n",
       "                        </pre>"
      ],
      "text/plain": [
       "<qiskit.visualization.text.TextDrawing at 0x203db47ffc8>"
      ]
     },
     "execution_count": 19,
     "metadata": {},
     "output_type": "execute_result"
    }
   ],
   "source": [
    "#Checking how C-NOT works by itself!\n",
    "circuit = QuantumCircuit(2, 2)\n",
    "circuit.x(1) # Using Pauli-X gate to flip 2nd Bit!\n",
    "circuit.cx(0, 1)\n",
    "circuit.measure([0,1], [0,1])\n",
    "job1 = execute(circuit, simulator1, shots=1000)\n",
    "result4 = job1.result()\n",
    "counts = result4.get_counts(circuit)\n",
    "print(\"\\nTotal count for 00 and 11 are:\",counts)\n",
    "# Draw the circuit\n",
    "circuit.draw()"
   ]
  },
  {
   "cell_type": "code",
   "execution_count": 20,
   "metadata": {},
   "outputs": [],
   "source": [
    "# It worked ! |01> flipped to |10>."
   ]
  },
  {
   "cell_type": "code",
   "execution_count": 21,
   "metadata": {},
   "outputs": [],
   "source": [
    "#OK! Now let's see Pauli Y and Z- gate!"
   ]
  },
  {
   "cell_type": "code",
   "execution_count": 22,
   "metadata": {
    "scrolled": true
   },
   "outputs": [
    {
     "data": {
      "text/latex": [
       "$Y = \\begin{bmatrix} 0 & -i \\\\ i & 0 \\end{bmatrix} \\quad\\quad\\quad\\quad Z = \\begin{bmatrix} 1 & 0 \\\\ 0 & -1 \\end{bmatrix}$ \n",
       "\\\\\n",
       "$Y = i|0\\rangle\\langle1| - i|1\\rangle\\langle0| \\quad\\quad Z = |0\\rangle\\langle0| - |1\\rangle\\langle1|$ \\\\\n",
       "\n",
       "\n",
       "And, unsurprisingly, they also respectively perform rotations by\n",
       "π  around the y and z-axis of the Bloch sphere.\n"
      ],
      "text/plain": [
       "<IPython.core.display.Latex object>"
      ]
     },
     "metadata": {},
     "output_type": "display_data"
    }
   ],
   "source": [
    "%%latex\n",
    "$Y = \\begin{bmatrix} 0 & -i \\\\ i & 0 \\end{bmatrix} \\quad\\quad\\quad\\quad Z = \\begin{bmatrix} 1 & 0 \\\\ 0 & -1 \\end{bmatrix}$ \n",
    "\\\\\n",
    "$Y = i|0\\rangle\\langle1| - i|1\\rangle\\langle0| \\quad\\quad Z = |0\\rangle\\langle0| - |1\\rangle\\langle1|$ \\\\\n",
    "\n",
    "\n",
    "And, unsurprisingly, they also respectively perform rotations by\n",
    "π  around the y and z-axis of the Bloch sphere."
   ]
  },
  {
   "cell_type": "code",
   "execution_count": 23,
   "metadata": {},
   "outputs": [
    {
     "data": {
      "text/html": [
       "<pre style=\"word-wrap: normal;white-space: pre;background: #fff0;line-height: 1.1;font-family: &quot;Courier New&quot;,Courier,monospace\">        ┌───┐┌─┐\n",
       "q_0: |0>┤ Y ├┤M├\n",
       "        └───┘└╥┘\n",
       " c_0: 0 ══════╩═\n",
       "                </pre>"
      ],
      "text/plain": [
       "<qiskit.visualization.text.TextDrawing at 0x203db57ad88>"
      ]
     },
     "execution_count": 23,
     "metadata": {},
     "output_type": "execute_result"
    }
   ],
   "source": [
    "circuitn = QuantumCircuit(1, 1)\n",
    "circuitn.y(0)\n",
    "circuitn.measure([0], [0])\n",
    "job5 = execute(circuitn, simulator2).result().get_statevector()\n",
    "# Draw the circuit\n",
    "circuitn.draw()"
   ]
  },
  {
   "cell_type": "code",
   "execution_count": 24,
   "metadata": {},
   "outputs": [
    {
     "data": {
      "image/png": "[encoded data removed]",
      "text/plain": [
       "<Figure size 288x288 with 1 Axes>"
      ]
     },
     "execution_count": 24,
     "metadata": {},
     "output_type": "execute_result"
    }
   ],
   "source": [
    "plot_bloch_multivector(job5)"
   ]
  },
  {
   "cell_type": "code",
   "execution_count": null,
   "metadata": {},
   "outputs": [],
   "source": []
  }
 ],
 "metadata": {
  "kernelspec": {
   "display_name": "Python 3",
   "language": "python",
   "name": "python3"
  },
  "language_info": {
   "codemirror_mode": {
    "name": "ipython",
    "version": 3
   },
   "file_extension": ".py",
   "mimetype": "text/x-python",
   "name": "python",
   "nbconvert_exporter": "python",
   "pygments_lexer": "ipython3",
   "version": "3.7.6"
  }
 },
 "nbformat": 4,
 "nbformat_minor": 4
}
